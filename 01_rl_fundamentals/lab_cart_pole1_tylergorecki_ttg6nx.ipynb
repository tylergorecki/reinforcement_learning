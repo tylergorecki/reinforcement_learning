{
  "cells": [
    {
      "cell_type": "markdown",
      "metadata": {
        "id": "-GBod1nv65dN"
      },
      "source": [
        "## Lab: Cart Pole using OpenAI gym\n",
        "## RL Basics and Simple Policy\n",
        "\n",
        "### University of Virginia\n",
        "### Reinforcement Learning\n",
        "#### Last updated: February 26, 2024\n",
        "\n",
        "---\n"
      ]
    },
    {
      "cell_type": "markdown",
      "metadata": {
        "id": "sSQ7PneAB_XJ"
      },
      "source": [
        "#### Instructions:  \n",
        "\n",
        "Carefully read the notes below and run the provided code. Answer each question clearly and show all results.\n",
        "\n",
        "#### TOTAL POINTS: 10\n",
        "\n",
        "---"
      ]
    },
    {
      "cell_type": "markdown",
      "metadata": {
        "id": "krpOsEbE_aTj"
      },
      "source": [
        "### Agent and Environment\n",
        "\n",
        "It is essential for the agent to have a way to get the next state and reward from the environment.\n",
        "\n",
        "Sometimes it is possible for the agent to interact with environment in real life, but often this is expensive / dangerous / impossible.\n",
        "\n",
        "We use models and simulators in this latter case.\n",
        "\n",
        "For this reason, the Gym package is useful in RL\n",
        "\n",
        "**Note**: Going forward, the fork [gymnasium](https://gymnasium.farama.org/) will maintain OpenAI gym.  \n",
        "We will be using `gymnasium` but will still refer to the environment as `gym` when it doesn't cause confusion.\n",
        "\n",
        "---"
      ]
    },
    {
      "cell_type": "markdown",
      "metadata": {
        "id": "fVwAKKjUBxFT"
      },
      "source": [
        "### Introduction to Gym\n",
        "\n",
        "Gym is a toolkit for developing and comparing RL algorithms.\n",
        "\n",
        "It comes with many pre-built environments which have functionality to emulate physical environments.\n",
        "\n",
        "Users can build their own custom environments. See [here](https://towardsdatascience.com/creating-a-custom-openai-gym-environment-for-stock-trading-be532be3910e#:~:text=8%20min%20read-,Create%20custom%20gym%20environments%20from%20scratch%20%E2%80%94%20A%20stock%20market%20example,Atari%20games%20to%20experiment%20with.) for example.\n",
        "\n",
        "---"
      ]
    },
    {
      "cell_type": "markdown",
      "metadata": {
        "id": "jUTU3338AvT9"
      },
      "source": [
        "### Cart Pole Problem\n",
        "\n",
        "The **CartPole** problem has a small state space and action space, so it's popular for illustrating ideas.\n",
        "\n",
        "Pole is attached to a cart on a frictionless track.\n",
        "\n",
        "Pole starts upright\n",
        "\n",
        "**Goal** is to keep pole from falling over\n",
        "\n",
        "Control system by applying **force** -1 or +1 to cart.\n",
        "\n",
        "**Reward** of +1 for each timestep the pole remains upright\n",
        "\n",
        "**Episode** ends when pole is more than 12 degrees from vertical, or cart moves more than 2.4 units from center\n",
        "\n",
        "CartPole-v1 defines *solving* as getting average reward of 195.0 over 100 consecutive trials."
      ]
    },
    {
      "cell_type": "markdown",
      "metadata": {
        "id": "OyoCL_8lB_XK"
      },
      "source": [
        "<img src=\"https://github.com/tylergorecki/reinforcement_learning/blob/main/01_rl_fundamentals/cartpole.png?raw=1\" alt=\"drawing\" width=\"150\"/>"
      ]
    },
    {
      "cell_type": "markdown",
      "metadata": {
        "id": "BGiRrboBB_XK"
      },
      "source": [
        "---"
      ]
    },
    {
      "cell_type": "markdown",
      "metadata": {
        "id": "rA_dd0h6Eoap"
      },
      "source": [
        "### Setup and First Steps"
      ]
    },
    {
      "cell_type": "markdown",
      "metadata": {
        "id": "OgSNDjuzow2U"
      },
      "source": [
        "This notebook can be easily run on [Google Colab](https://colab.research.google.com/)"
      ]
    },
    {
      "cell_type": "code",
      "execution_count": 13,
      "metadata": {
        "colab": {
          "base_uri": "https://localhost:8080/"
        },
        "id": "ee6amSyRCEXI",
        "outputId": "0bbea719-fb38-4139-8cc4-8d32114d859d"
      },
      "outputs": [
        {
          "output_type": "stream",
          "name": "stdout",
          "text": [
            "Requirement already satisfied: gymnasium in /usr/local/lib/python3.11/dist-packages (1.0.0)\n",
            "Requirement already satisfied: numpy>=1.21.0 in /usr/local/lib/python3.11/dist-packages (from gymnasium) (1.26.4)\n",
            "Requirement already satisfied: cloudpickle>=1.2.0 in /usr/local/lib/python3.11/dist-packages (from gymnasium) (3.1.0)\n",
            "Requirement already satisfied: typing-extensions>=4.3.0 in /usr/local/lib/python3.11/dist-packages (from gymnasium) (4.12.2)\n",
            "Requirement already satisfied: farama-notifications>=0.0.1 in /usr/local/lib/python3.11/dist-packages (from gymnasium) (0.0.4)\n"
          ]
        }
      ],
      "source": [
        "! pip install gymnasium"
      ]
    },
    {
      "cell_type": "markdown",
      "metadata": {
        "id": "urwN9CGQkNVd"
      },
      "source": [
        "We can use [renderlab](https://github.com/ryanrudes/renderlab/tree/main) to visualize *results*"
      ]
    },
    {
      "cell_type": "code",
      "execution_count": 14,
      "metadata": {
        "colab": {
          "base_uri": "https://localhost:8080/"
        },
        "id": "1heW7w14hYfP",
        "outputId": "066a3672-0fef-4abc-91b2-282b7e56a67d"
      },
      "outputs": [
        {
          "output_type": "stream",
          "name": "stdout",
          "text": [
            "Requirement already satisfied: renderlab in /usr/local/lib/python3.11/dist-packages (0.1.20230421184216)\n",
            "Requirement already satisfied: moviepy in /usr/local/lib/python3.11/dist-packages (from renderlab) (1.0.3)\n",
            "Requirement already satisfied: gymnasium in /usr/local/lib/python3.11/dist-packages (from renderlab) (1.0.0)\n",
            "Requirement already satisfied: numpy>=1.21.0 in /usr/local/lib/python3.11/dist-packages (from gymnasium->renderlab) (1.26.4)\n",
            "Requirement already satisfied: cloudpickle>=1.2.0 in /usr/local/lib/python3.11/dist-packages (from gymnasium->renderlab) (3.1.0)\n",
            "Requirement already satisfied: typing-extensions>=4.3.0 in /usr/local/lib/python3.11/dist-packages (from gymnasium->renderlab) (4.12.2)\n",
            "Requirement already satisfied: farama-notifications>=0.0.1 in /usr/local/lib/python3.11/dist-packages (from gymnasium->renderlab) (0.0.4)\n",
            "Requirement already satisfied: decorator<5.0,>=4.0.2 in /usr/local/lib/python3.11/dist-packages (from moviepy->renderlab) (4.4.2)\n",
            "Requirement already satisfied: imageio<3.0,>=2.5 in /usr/local/lib/python3.11/dist-packages (from moviepy->renderlab) (2.36.1)\n",
            "Requirement already satisfied: imageio_ffmpeg>=0.2.0 in /usr/local/lib/python3.11/dist-packages (from moviepy->renderlab) (0.5.1)\n",
            "Requirement already satisfied: tqdm<5.0,>=4.11.2 in /usr/local/lib/python3.11/dist-packages (from moviepy->renderlab) (4.67.1)\n",
            "Requirement already satisfied: requests<3.0,>=2.8.1 in /usr/local/lib/python3.11/dist-packages (from moviepy->renderlab) (2.32.3)\n",
            "Requirement already satisfied: proglog<=1.0.0 in /usr/local/lib/python3.11/dist-packages (from moviepy->renderlab) (0.1.10)\n",
            "Requirement already satisfied: pillow>=8.3.2 in /usr/local/lib/python3.11/dist-packages (from imageio<3.0,>=2.5->moviepy->renderlab) (11.1.0)\n",
            "Requirement already satisfied: setuptools in /usr/local/lib/python3.11/dist-packages (from imageio_ffmpeg>=0.2.0->moviepy->renderlab) (75.1.0)\n",
            "Requirement already satisfied: charset-normalizer<4,>=2 in /usr/local/lib/python3.11/dist-packages (from requests<3.0,>=2.8.1->moviepy->renderlab) (3.4.1)\n",
            "Requirement already satisfied: idna<4,>=2.5 in /usr/local/lib/python3.11/dist-packages (from requests<3.0,>=2.8.1->moviepy->renderlab) (3.10)\n",
            "Requirement already satisfied: urllib3<3,>=1.21.1 in /usr/local/lib/python3.11/dist-packages (from requests<3.0,>=2.8.1->moviepy->renderlab) (2.3.0)\n",
            "Requirement already satisfied: certifi>=2017.4.17 in /usr/local/lib/python3.11/dist-packages (from requests<3.0,>=2.8.1->moviepy->renderlab) (2024.12.14)\n"
          ]
        }
      ],
      "source": [
        "! pip install renderlab"
      ]
    },
    {
      "cell_type": "code",
      "execution_count": 15,
      "metadata": {
        "id": "ed_DyvHy6pbh"
      },
      "outputs": [],
      "source": [
        "import gymnasium as gym\n",
        "import renderlab as rl"
      ]
    },
    {
      "cell_type": "markdown",
      "metadata": {
        "id": "KA4JgtuL5jC9"
      },
      "source": [
        "Load the environment"
      ]
    },
    {
      "cell_type": "code",
      "execution_count": 16,
      "metadata": {
        "colab": {
          "base_uri": "https://localhost:8080/"
        },
        "id": "UcGLRi6F6vcQ",
        "outputId": "2728ed0f-9ef4-48c6-d8be-c6eb0e519861"
      },
      "outputs": [
        {
          "output_type": "stream",
          "name": "stdout",
          "text": [
            "(array([0.04225422, 0.02126478, 0.02520455, 0.00700802], dtype=float32), {})\n"
          ]
        }
      ],
      "source": [
        "env = gym.make(\"CartPole-v1\", render_mode = \"rgb_array\")\n",
        "\n",
        "state = env.reset(seed=314)\n",
        "print(state)"
      ]
    },
    {
      "cell_type": "markdown",
      "metadata": {
        "id": "VtQFJsxj7aBj"
      },
      "source": [
        "Given the state, we take an action. The next state comes from the environment, which is encoded in `gym`.\n",
        "\n",
        "The first element holds components:   \n",
        "[0]: cart horizontal position (0.0 = center)  \n",
        "[1]: velocity (positive means right)  \n",
        "[2]: angle of the pole (0.0 = vertical)  \n",
        "[3]: pole's angular velocity (positive means clockwise)"
      ]
    },
    {
      "cell_type": "code",
      "execution_count": 17,
      "metadata": {
        "colab": {
          "base_uri": "https://localhost:8080/"
        },
        "id": "7A5peNKiBXsh",
        "outputId": "4abfc5a1-c8c4-43b2-8f21-20fd7fee33cd"
      },
      "outputs": [
        {
          "output_type": "execute_result",
          "data": {
            "text/plain": [
              "4"
            ]
          },
          "metadata": {},
          "execution_count": 17
        }
      ],
      "source": [
        "# state space number of components\n",
        "env.observation_space.shape[0]"
      ]
    },
    {
      "cell_type": "markdown",
      "metadata": {
        "id": "8GkZmsIN7ky6"
      },
      "source": [
        "The action space consists of two options:\n",
        "\n",
        "[0]: move cart left   \n",
        "[1]: move cart right"
      ]
    },
    {
      "cell_type": "code",
      "execution_count": 18,
      "metadata": {
        "colab": {
          "base_uri": "https://localhost:8080/"
        },
        "id": "ySQ8EpsV7Ngr",
        "outputId": "1f836f90-a5c0-4feb-d7d0-e12393f26775"
      },
      "outputs": [
        {
          "output_type": "execute_result",
          "data": {
            "text/plain": [
              "Discrete(2)"
            ]
          },
          "metadata": {},
          "execution_count": 18
        }
      ],
      "source": [
        "env.action_space"
      ]
    },
    {
      "cell_type": "markdown",
      "metadata": {
        "id": "_68lpUuVCc-_"
      },
      "source": [
        "Let's take an action, draw a sample and look at the results."
      ]
    },
    {
      "cell_type": "code",
      "execution_count": 19,
      "metadata": {
        "colab": {
          "base_uri": "https://localhost:8080/"
        },
        "id": "gKFEIHjL7n7h",
        "outputId": "6e8cd68e-219f-453a-d64b-053ca6642696"
      },
      "outputs": [
        {
          "output_type": "stream",
          "name": "stdout",
          "text": [
            "state [ 0.04267951  0.21601637  0.02534471 -0.27761722]\n",
            "reward 1.0\n",
            "done False\n",
            "info {}\n"
          ]
        }
      ],
      "source": [
        "# move right\n",
        "action = 1\n",
        "\n",
        "# take a step and get next state, reward from environment\n",
        "state, reward, terminated, truncated, info = env.step(action)\n",
        "done = terminated or truncated\n",
        "\n",
        "print('state', state)\n",
        "print('reward', reward)\n",
        "print('done', done)\n",
        "print('info', info)"
      ]
    },
    {
      "cell_type": "markdown",
      "metadata": {
        "id": "QdXm61SyB_XO"
      },
      "source": [
        "**Note about DONE**  \n",
        "We need to understand if the episode is done after taking action  \n",
        "\n",
        "The API now gives more detail on this variable, which may reach `done` state for two reasons:  \n",
        "- **terminated**=True if environment terminates (eg. due to task completion, failure etc.)  \n",
        "- **truncated**=True if episode truncates due to a time limit or a reason that is not defined as part of the task MDP."
      ]
    },
    {
      "cell_type": "markdown",
      "metadata": {
        "id": "CdXO_KsfB_XO"
      },
      "source": [
        "**Run several steps by taking random actions**  "
      ]
    },
    {
      "cell_type": "code",
      "execution_count": 20,
      "metadata": {
        "colab": {
          "base_uri": "https://localhost:8080/"
        },
        "id": "IG-HlLwDB_XO",
        "outputId": "83f7e3c3-bb5a-4bcd-e807-821dcce4b941"
      },
      "outputs": [
        {
          "output_type": "stream",
          "name": "stdout",
          "text": [
            "(array([ 0.04267951, -0.1742094 ,  0.02534471,  0.30753553], dtype=float32), 1.0, False, False, {})\n",
            "(array([ 0.03919533, -0.36968315,  0.03149542,  0.6081025 ], dtype=float32), 1.0, False, False, {})\n",
            "(array([ 0.03180166, -0.56523097,  0.04365747,  0.9105369 ], dtype=float32), 1.0, False, False, {})\n",
            "(array([ 0.02049704, -0.3707261 ,  0.06186821,  0.63188887], dtype=float32), 1.0, False, False, {})\n",
            "(array([ 0.01308252, -0.5666542 ,  0.07450598,  0.94339633], dtype=float32), 1.0, False, False, {})\n"
          ]
        }
      ],
      "source": [
        "state = env.reset(seed=314)\n",
        "for _ in range(5):\n",
        "    print(env.step(env.action_space.sample())) # take a random action"
      ]
    },
    {
      "cell_type": "markdown",
      "metadata": {
        "id": "BPJ5pHxPjFNl"
      },
      "source": [
        "**Run an epoch by taking random actions. Visualize the results.**  "
      ]
    },
    {
      "cell_type": "code",
      "execution_count": 21,
      "metadata": {
        "colab": {
          "base_uri": "https://localhost:8080/",
          "height": 584
        },
        "id": "6DTMm3offzGh",
        "outputId": "c441bb91-bd1a-48a8-b60e-43085950fa0a"
      },
      "outputs": [
        {
          "output_type": "stream",
          "name": "stdout",
          "text": [
            "Moviepy - Building video temp-{start}.mp4.\n",
            "Moviepy - Writing video temp-{start}.mp4\n",
            "\n"
          ]
        },
        {
          "output_type": "stream",
          "name": "stderr",
          "text": [
            "\rt:   0%|          | 0/18 [00:00<?, ?it/s, now=None]WARNING:py.warnings:/usr/local/lib/python3.11/dist-packages/moviepy/video/io/ffmpeg_reader.py:123: UserWarning: Warning: in file ./output/1737681318.1272724.mp4, 720000 bytes wanted but 0 bytes read,at frame 17/18, at time 0.57/0.57 sec. Using the last valid frame instead.\n",
            "  warnings.warn(\"Warning: in file %s, \"%(self.filename)+\n",
            "\n",
            "                                                   "
          ]
        },
        {
          "output_type": "stream",
          "name": "stdout",
          "text": [
            "Moviepy - Done !\n",
            "Moviepy - video ready temp-{start}.mp4\n"
          ]
        },
        {
          "output_type": "stream",
          "name": "stderr",
          "text": [
            "\r"
          ]
        },
        {
          "output_type": "display_data",
          "data": {
            "text/plain": [
              "<IPython.core.display.Video object>"
            ],
            "text/html": [
              "<video controls  >\n",
              " <source src=\"data:video/mp4;base64,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\" type=\"video/mp4\">\n",
              " Your browser does not support the video tag.\n",
              " </video>"
            ]
          },
          "metadata": {}
        }
      ],
      "source": [
        "env = rl.RenderFrame(env, \"./output\")\n",
        "\n",
        "observation, info = env.reset()\n",
        "\n",
        "while True:\n",
        "    action = env.action_space.sample()\n",
        "    observation, reward, terminated, truncated, info = env.step(action)\n",
        "\n",
        "    if terminated or truncated:\n",
        "      break\n",
        "\n",
        "env.play()"
      ]
    },
    {
      "cell_type": "markdown",
      "metadata": {
        "id": "bqxI0vej88Kh"
      },
      "source": [
        "**Reward and Episode**  \n",
        "\n",
        "For each time step that the cart keeps the pole balanced, it earns reward 1.\n",
        "\n",
        "If the pole tilts too much or if the cart moves off screen, `reward=0` and `done=True` (the episode will end).\n",
        "\n",
        "When the episode ends, a new episode may begin. The process learns cumulatively from each episode.\n",
        "\n",
        "---"
      ]
    },
    {
      "cell_type": "markdown",
      "metadata": {
        "id": "Yv5gKVde9pvQ"
      },
      "source": [
        "#### 1) Defining a function that runs a simple policy\n",
        "**(POINTS: 1)**\n",
        "\n",
        "When the pole leans left (negative angle), move left. When the pole leans right (positive angle), move right.  \n",
        "\n",
        "The function should take the state and return an action. Test that it works properly.  "
      ]
    },
    {
      "cell_type": "code",
      "execution_count": 22,
      "metadata": {
        "id": "yhUJFaaJB_XP",
        "outputId": "24e81838-8c5b-4fae-a8da-4df5fa26cd32",
        "colab": {
          "base_uri": "https://localhost:8080/",
          "height": 584
        }
      },
      "outputs": [
        {
          "output_type": "stream",
          "name": "stdout",
          "text": [
            "Moviepy - Building video temp-{start}.mp4.\n",
            "Moviepy - Writing video temp-{start}.mp4\n",
            "\n"
          ]
        },
        {
          "output_type": "stream",
          "name": "stderr",
          "text": [
            "t:  82%|████████▏ | 32/39 [00:00<00:00, 311.32it/s, now=None]WARNING:py.warnings:/usr/local/lib/python3.11/dist-packages/moviepy/video/io/ffmpeg_reader.py:123: UserWarning: Warning: in file ./output/1737681318.360318.mp4, 720000 bytes wanted but 0 bytes read,at frame 38/39, at time 1.27/1.27 sec. Using the last valid frame instead.\n",
            "  warnings.warn(\"Warning: in file %s, \"%(self.filename)+\n",
            "\n"
          ]
        },
        {
          "output_type": "stream",
          "name": "stdout",
          "text": [
            "Moviepy - Done !\n",
            "Moviepy - video ready temp-{start}.mp4\n"
          ]
        },
        {
          "output_type": "display_data",
          "data": {
            "text/plain": [
              "<IPython.core.display.Video object>"
            ],
            "text/html": [
              "<video controls  >\n",
              " <source src=\"data:video/mp4;base64,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\" type=\"video/mp4\">\n",
              " Your browser does not support the video tag.\n",
              " </video>"
            ]
          },
          "metadata": {}
        }
      ],
      "source": [
        "# create policy\n",
        "def simple_action(pole_angle):\n",
        "  if pole_angle < 0:\n",
        "    return 0\n",
        "  else:\n",
        "    return 1\n",
        "\n",
        "# test output\n",
        "env = rl.RenderFrame(env, \"./output\")\n",
        "\n",
        "observation, info = env.reset()\n",
        "\n",
        "while True:\n",
        "    action = simple_action(observation[2]) # observation[2] returns the pole angle\n",
        "    observation, reward, terminated, truncated, info = env.step(action)\n",
        "\n",
        "    if terminated or truncated:\n",
        "      break\n",
        "\n",
        "env.play()"
      ]
    },
    {
      "cell_type": "markdown",
      "metadata": {
        "id": "wIq0UJphB_XP"
      },
      "source": [
        "#### 2) Simulating episodes with the simple policy  \n",
        "\n",
        "2a) **(POINTS: 2)** Run 1000 episodes each with 100 time steps. Use the `simple_policy` for taking actions.  \n",
        "Each time step will call the `step()` method to get the next state and reward. Produce a boxplot of the rewards from each episode."
      ]
    },
    {
      "cell_type": "code",
      "execution_count": 23,
      "metadata": {
        "id": "CnyTiBu-B_XP"
      },
      "outputs": [],
      "source": [
        "# create policy\n",
        "def simple_action(pole_angle):\n",
        "  if pole_angle < 0:\n",
        "    return 0\n",
        "  else:\n",
        "    return 1\n",
        "\n",
        "# create list to hold rewards\n",
        "rewards = []\n",
        "\n",
        "# 1000 iterations\n",
        "for i in range(1000):\n",
        "  # if i % 50 == 0: print(i)\n",
        "\n",
        "  single_reward = 0\n",
        "\n",
        "  # test output\n",
        "  observation, info = env.reset()\n",
        "\n",
        "  for x in range(100):\n",
        "      action = simple_action(observation[2]) # observation[2] returns the pole angle\n",
        "      observation, reward, terminated, truncated, info = env.step(action)\n",
        "      single_reward = single_reward + reward\n",
        "\n",
        "      if terminated or truncated:\n",
        "        break\n",
        "\n",
        "  rewards.append(single_reward)"
      ]
    },
    {
      "cell_type": "code",
      "source": [
        "import matplotlib.pyplot as plt\n",
        "\n",
        "plt.boxplot(rewards)\n",
        "plt.title(\"Boxplot of rewards using simple policy\")\n",
        "plt.ylabel(\"Time points reached\")\n",
        "plt.show()"
      ],
      "metadata": {
        "id": "XjIDFcnczkCg",
        "outputId": "09251fb1-d543-4275-d7f2-4c10fd9fd7c6",
        "colab": {
          "base_uri": "https://localhost:8080/",
          "height": 452
        }
      },
      "execution_count": 24,
      "outputs": [
        {
          "output_type": "display_data",
          "data": {
            "text/plain": [
              "<Figure size 640x480 with 1 Axes>"
            ],
            "image/png": "[encoded data removed]"
          },
          "metadata": {}
        }
      ]
    },
    {
      "cell_type": "markdown",
      "metadata": {
        "id": "3vCGs_zlB_XP"
      },
      "source": [
        "2b) **(POINTS: 1)** Is this policy able to solve the cart pole problem? Explain your answer."
      ]
    },
    {
      "cell_type": "markdown",
      "metadata": {
        "id": "UXJhJRMaB_XP"
      },
      "source": [
        "No, none of the episodes were able to reach more than 70 time points. The pole seems to gradually gain more and more momentum until eventually passing over the angle of no return."
      ]
    },
    {
      "cell_type": "markdown",
      "metadata": {
        "id": "5Iz7bmXTB_XP"
      },
      "source": [
        "#### 3) From Question [2], what is the mean and maximum reward (roughly)?\n",
        "**(POINTS: 1)**"
      ]
    },
    {
      "cell_type": "code",
      "execution_count": 25,
      "metadata": {
        "id": "owuzui2wB_XP",
        "outputId": "05f71ae7-01b2-46ca-812b-26c952c1767b",
        "colab": {
          "base_uri": "https://localhost:8080/"
        }
      },
      "outputs": [
        {
          "output_type": "stream",
          "name": "stdout",
          "text": [
            "Mean: 41.978\n",
            "Maximum: 68.0\n"
          ]
        }
      ],
      "source": [
        "print(\"Mean:\", sum(rewards)/len(rewards))\n",
        "print(\"Maximum:\", max(rewards))"
      ]
    },
    {
      "cell_type": "markdown",
      "metadata": {
        "id": "gnH4J3988wNe"
      },
      "source": [
        "#### 4) Reversed Simple Policy\n",
        "**(POINTS: 2)**\n",
        "\n",
        "What happens if you reverse the simple policy, moving left when the pole leans right, and moving right when the pole leans left? This is not a good idea, but it's instructive. To show the result, produce the boxplot from before, and calculate the mean reward."
      ]
    },
    {
      "cell_type": "code",
      "execution_count": 26,
      "metadata": {
        "id": "YyoOpgHpB_XQ"
      },
      "outputs": [],
      "source": [
        "# create reversed policy\n",
        "def simple_action_reversed(pole_angle):\n",
        "  if pole_angle > 0:\n",
        "    return 0\n",
        "  else:\n",
        "    return 1\n",
        "\n",
        "# create list to hold rewards\n",
        "rewards = []\n",
        "\n",
        "# 1000 iterations\n",
        "for i in range(1000):\n",
        "  # if i % 50 == 0: print(i)\n",
        "\n",
        "  single_reward = 0\n",
        "\n",
        "  # test output\n",
        "  observation, info = env.reset()\n",
        "\n",
        "  for x in range(100):\n",
        "      action = simple_action_reversed(observation[2]) # observation[2] returns the pole angle\n",
        "      observation, reward, terminated, truncated, info = env.step(action)\n",
        "      single_reward = single_reward + reward\n",
        "\n",
        "      if terminated or truncated:\n",
        "        break\n",
        "\n",
        "  rewards.append(single_reward)"
      ]
    },
    {
      "cell_type": "code",
      "source": [
        "plt.boxplot(rewards)\n",
        "plt.title(\"Boxplot of rewards using reversed simple policy\")\n",
        "plt.show()"
      ],
      "metadata": {
        "id": "CF4AIx8k0afk",
        "outputId": "8ade31c9-2dfb-46a0-e62d-ac60cc31173a",
        "colab": {
          "base_uri": "https://localhost:8080/",
          "height": 452
        }
      },
      "execution_count": 27,
      "outputs": [
        {
          "output_type": "display_data",
          "data": {
            "text/plain": [
              "<Figure size 640x480 with 1 Axes>"
            ],
            "image/png": "[encoded data removed]"
          },
          "metadata": {}
        }
      ]
    },
    {
      "cell_type": "code",
      "source": [
        "print(\"Mean:\", sum(rewards)/len(rewards))"
      ],
      "metadata": {
        "id": "uYUHdGMR8qFK",
        "outputId": "87878f77-dc58-4a55-8843-f44790b9e8c1",
        "colab": {
          "base_uri": "https://localhost:8080/"
        }
      },
      "execution_count": 28,
      "outputs": [
        {
          "output_type": "stream",
          "name": "stdout",
          "text": [
            "Mean: 8.728\n"
          ]
        }
      ]
    },
    {
      "cell_type": "markdown",
      "metadata": {
        "id": "l8DPx4tyB_XQ"
      },
      "source": [
        "#### 5) Modified Policy\n",
        "**(POINTS: 2)** Full points for attempt and clear explanation.\n",
        "\n",
        "Time to get creative! See if you can try a different policy that improves the mean reward. Clearly explain your strategy."
      ]
    },
    {
      "cell_type": "code",
      "execution_count": 29,
      "metadata": {
        "id": "w0oF1fYbB_XQ",
        "outputId": "df3ec39b-5c98-4fc7-e7f7-8b8dbc21e5cb",
        "colab": {
          "base_uri": "https://localhost:8080/",
          "height": 528
        }
      },
      "outputs": [
        {
          "output_type": "stream",
          "name": "stdout",
          "text": [
            "500.0\n",
            "Moviepy - Building video temp-{start}.mp4.\n",
            "Moviepy - Writing video temp-{start}.mp4\n",
            "\n"
          ]
        },
        {
          "output_type": "stream",
          "name": "stderr",
          "text": []
        },
        {
          "output_type": "stream",
          "name": "stdout",
          "text": [
            "Moviepy - Done !\n",
            "Moviepy - video ready temp-{start}.mp4\n"
          ]
        },
        {
          "output_type": "display_data",
          "data": {
            "text/plain": [
              "<IPython.core.display.Video object>"
            ],
            "text/html": [
              "<video controls  >\n",
              " <source src=\"data:video/mp4;base64,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\" type=\"video/mp4\">\n",
              " Your browser does not support the video tag.\n",
              " </video>"
            ]
          },
          "metadata": {}
        }
      ],
      "source": [
        "# observation[0] returns the cart horizontal position\n",
        "# observation[1] returns the cart velocity (R +)\n",
        "# observation[2] returns the pole angle\n",
        "# observation[3] returns the pole angular velocity (CW +)\n",
        "\n",
        "import numpy as np\n",
        "\n",
        "# create policy\n",
        "def custom_action(state):\n",
        "  cart_pos, cart_velo, pole_angle, pole_velo = state[0], state[1], state[2], state[3]\n",
        "  if pole_angle < -0.035:\n",
        "    return 0\n",
        "\n",
        "  if pole_angle > 0.035:\n",
        "    return 1\n",
        "\n",
        "  if pole_velo < 0:\n",
        "    return 0\n",
        "\n",
        "  if pole_velo > 0:\n",
        "    return 1\n",
        "\n",
        "  return cart_pos < 0\n",
        "\n",
        "# test output\n",
        "env = rl.RenderFrame(env, \"./output\")\n",
        "\n",
        "observation, info = env.reset()\n",
        "rewards = 0\n",
        "\n",
        "while True:\n",
        "    action = custom_action(observation)\n",
        "    observation, reward, terminated, truncated, info = env.step(action)\n",
        "    rewards = rewards + reward\n",
        "\n",
        "    if terminated or truncated:\n",
        "      break\n",
        "\n",
        "print(rewards)\n",
        "env.play()"
      ]
    },
    {
      "cell_type": "code",
      "source": [
        "# create list to hold rewards\n",
        "rewards = []\n",
        "\n",
        "# 100 iterations\n",
        "for i in range(100):\n",
        "  # if i % 10 == 0: print(i)\n",
        "\n",
        "  single_reward = 0\n",
        "\n",
        "  # test output\n",
        "  observation, info = env.reset()\n",
        "\n",
        "  while True:\n",
        "      action = custom_action(observation)\n",
        "      observation, reward, terminated, truncated, info = env.step(action)\n",
        "      single_reward = single_reward + reward\n",
        "\n",
        "      if terminated or truncated:\n",
        "        break\n",
        "\n",
        "  rewards.append(single_reward)"
      ],
      "metadata": {
        "id": "IGaF7sFkuQ6A"
      },
      "execution_count": 30,
      "outputs": []
    },
    {
      "cell_type": "code",
      "source": [
        "print(\"Mean:\", sum(rewards) / len(rewards))"
      ],
      "metadata": {
        "colab": {
          "base_uri": "https://localhost:8080/"
        },
        "id": "WMPnKjh1u00f",
        "outputId": "b4aae33f-1982-4727-bd6f-3b41834ec20b"
      },
      "execution_count": 32,
      "outputs": [
        {
          "output_type": "stream",
          "name": "stdout",
          "text": [
            "Mean: 497.19\n"
          ]
        }
      ]
    },
    {
      "cell_type": "markdown",
      "metadata": {
        "id": "rdTK31yrB_XQ"
      },
      "source": [
        "My first two if-statements check to see if the pole is overly tilted too far left or right. If it's leaning too far right, then I move the cart right and the same thing the other way. I tinkered with the value for a while, as it took me a few attempts to realize how small the magnitude of the angle for these checks should be. After that, I felt that if the pole was close to straight up but not exactly, I wanted to focus on just moving the cart in the opposite direction of the pole movement to make sure of balance in terms of momentum. Because the pole was nearly straight up, I had room to counteract the velocity instead of worrying about the angle specifically. This seemed to do it's job and I added the final statement, if the pole wasn't moving and was straight up, to move the cart back towards the center. Overall, it seems like my runs were timing out so this approach was successful. This was about my third combination of if-statements, so it was exciting to see the pole stay up for as long as it did."
      ]
    },
    {
      "cell_type": "markdown",
      "metadata": {
        "id": "t_61H87rA_MT"
      },
      "source": [
        "---  \n",
        "\n",
        "### Wrapup\n",
        "\n",
        "This demo illustrated some basic ideas of reinforcement learning and got you started with OpenAI Gym.\n",
        "\n",
        "We will revisit this example later, bringing in more tools for a better solution.\n",
        "\n",
        "---\n"
      ]
    }
  ],
  "metadata": {
    "colab": {
      "provenance": [],
      "gpuType": "T4"
    },
    "kernelspec": {
      "display_name": "Python 3",
      "name": "python3"
    },
    "language_info": {
      "codemirror_mode": {
        "name": "ipython",
        "version": 3
      },
      "file_extension": ".py",
      "mimetype": "text/x-python",
      "name": "python",
      "nbconvert_exporter": "python",
      "pygments_lexer": "ipython3",
      "version": "3.12.4"
    },
    "accelerator": "GPU"
  },
  "nbformat": 4,
  "nbformat_minor": 0
}
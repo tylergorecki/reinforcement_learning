{
  "cells": [
    {
      "cell_type": "markdown",
      "id": "d2ba6549-8b15-4f95-9615-549dd5fa2f7c",
      "metadata": {
        "id": "d2ba6549-8b15-4f95-9615-549dd5fa2f7c"
      },
      "source": [
        "### Lab: Q-Learning to Solve the Cliff Walk Problem\n",
        "\n",
        "### University of Virginia\n",
        "### Reinforcement Learning\n",
        "#### Last updated: December 11, 2023\n",
        "\n",
        "---"
      ]
    },
    {
      "cell_type": "markdown",
      "id": "2afeab41-bd5f-40e8-ad2f-e8999f13ed45",
      "metadata": {
        "id": "2afeab41-bd5f-40e8-ad2f-e8999f13ed45"
      },
      "source": [
        "#### Instructions:\n",
        "\n",
        "In Sutton & Barto (Section 6.5), the Cliff Walking problem is presented. You will apply Q-learning to teach an agent to solve it.  \n",
        "\n",
        "Consider the grid below, where an agent begins in starting state S and wishes to reach goal state G by walking on a path and keeping off The Cliff (the gray region).  At each time step, the agent can potentially take one step left, right, up, or down. There is no discounting.  It is not possible for the agent to move off the grid. If the agent visits The Cliff, it incurs reward -100 and is immediately sent back to the start. The reward is -1 on all transitions apart from The Cliff. This incentivizes the agent to reach G as quickly as possible.\n",
        "\n",
        "**Note**: Do not use libraries from `networkx`, `gym`, `gymnasium` when solving this problem.\n",
        "\n",
        "---"
      ]
    },
    {
      "cell_type": "markdown",
      "id": "4266cda1-8a73-4761-a843-676543a67c0d",
      "metadata": {
        "id": "4266cda1-8a73-4761-a843-676543a67c0d"
      },
      "source": [
        "<img src=\"https://github.com/tylergorecki/reinforcement_learning/blob/main/04_q_learning/cliff_walk.png?raw=1\">  "
      ]
    },
    {
      "cell_type": "markdown",
      "id": "7c322b08-1720-43e0-a3b0-0788fc33b6a7",
      "metadata": {
        "id": "7c322b08-1720-43e0-a3b0-0788fc33b6a7"
      },
      "source": [
        "#### TOTAL POINTS: 12\n",
        "\n",
        "---"
      ]
    },
    {
      "cell_type": "markdown",
      "id": "7a304cd5-72e7-4f53-95d4-1cb9fcfb1d1f",
      "metadata": {
        "id": "7a304cd5-72e7-4f53-95d4-1cb9fcfb1d1f"
      },
      "source": [
        "#### 1) Clearly explain how you will set up the state space and action space.\n",
        "**(POINTS: 2)**"
      ]
    },
    {
      "cell_type": "markdown",
      "id": "34e536f8-9cc1-4295-8283-3d9528ffb8f1",
      "metadata": {
        "id": "34e536f8-9cc1-4295-8283-3d9528ffb8f1"
      },
      "source": [
        "The state space is each individual cell in the 4x12 grid above and the action space is movement left, right, up or down. This would result in a 4x12x4 3D matrix to hold the q_values from each state/action. When exploring which direction to move, I will make sure that no steps are able to go outside of the bounded state space. Finally, for reference, the bottom left starting cell is [3,0] and the bottom right goal state is [3,11]."
      ]
    },
    {
      "cell_type": "markdown",
      "id": "86d3e91d-ecb5-4c27-a703-4bd28d307800",
      "metadata": {
        "id": "86d3e91d-ecb5-4c27-a703-4bd28d307800"
      },
      "source": [
        "#### 2) Write a Q-learning algorithm that helps the agent learn a policy to reach the goal  \n",
        "**(POINTS: 8)**.\n",
        "\n",
        "Use $\\epsilon$-greedy action selection with $\\epsilon=0.1$.  \n",
        "You can decide the other parameters as you wish.  "
      ]
    },
    {
      "cell_type": "code",
      "source": [
        "import numpy as np\n",
        "import matplotlib.pyplot as plt"
      ],
      "metadata": {
        "id": "fMNknIu2axpX"
      },
      "id": "fMNknIu2axpX",
      "execution_count": null,
      "outputs": []
    },
    {
      "cell_type": "markdown",
      "source": [
        "Helper functions"
      ],
      "metadata": {
        "id": "ydLLZkIbf5b9"
      },
      "id": "ydLLZkIbf5b9"
    },
    {
      "cell_type": "code",
      "execution_count": null,
      "id": "09f89e37-d060-48ec-b1a6-809eba649178",
      "metadata": {
        "tags": [],
        "id": "09f89e37-d060-48ec-b1a6-809eba649178"
      },
      "outputs": [],
      "source": [
        "def possible_actions(state):\n",
        "  # based on state location, return list of possible directions to move\n",
        "  possible_actions = []\n",
        "  if state[0] < 3: # if not on bottom row, can move down\n",
        "    possible_actions.append(0)\n",
        "  if state[0] > 0: # if not on top row, can move up\n",
        "    possible_actions.append(2)\n",
        "  if state[1] < 11: # if not on right edge, can move right\n",
        "    possible_actions.append(1)\n",
        "  if state[1] > 0: # if not on left edge, can move left\n",
        "    possible_actions.append(3)\n",
        "  return possible_actions\n",
        "\n",
        "def egreedy(q_vals, state, policy, epsilon = 0.1):\n",
        "  actions = possible_actions(state)\n",
        "  # print(state, actions)\n",
        "  if policy is None: # if there is no known policy\n",
        "    if np.random.random() < epsilon:\n",
        "      # randomly selection from any of the possible movements\n",
        "      return np.random.choice(actions)\n",
        "    else:\n",
        "      # select the highest value from any of the possible movements\n",
        "      # print(q_vals[state[0], state[1], actions])\n",
        "      return actions[np.argmax(q_vals[state[0], state[1], actions])]\n",
        "  else: # if we have a known policy, want to use it every time\n",
        "    return actions[np.argmax(q_vals[state[0], state[1], actions])]\n",
        "\n",
        "def step(state, action):\n",
        "  # possible movement in all directions\n",
        "  if action == 0: # down\n",
        "    next_state = [state[0]+1, state[1]]\n",
        "  elif action == 1: # right\n",
        "    next_state = [state[0], state[1]+1]\n",
        "  elif action == 2: # up\n",
        "    next_state = [state[0]-1, state[1]]\n",
        "  elif action == 3: # left\n",
        "    next_state = [state[0], state[1]-1]\n",
        "\n",
        "  reward = -1\n",
        "  done = False\n",
        "\n",
        "  if next_state[0] == 3:\n",
        "    if next_state[1] == 11:\n",
        "      reward = 0 # reward 0 in goal state\n",
        "      done = True # if goal reached, end run\n",
        "    elif next_state[1] == 0:\n",
        "      reward = -1 # re-setting reward it to -1 if reaches start again\n",
        "      done = False # keep run going if start reached again\n",
        "    else:\n",
        "      reward = -100 # reward -100 in cliff area\n",
        "      done = True # if cliff reached, end run\n",
        "\n",
        "  return next_state, reward, done"
      ]
    },
    {
      "cell_type": "markdown",
      "source": [
        "Q-learning function"
      ],
      "metadata": {
        "id": "ejiK1Y8lf7Xs"
      },
      "id": "ejiK1Y8lf7Xs"
    },
    {
      "cell_type": "code",
      "source": [
        "def q_learning(episodes = 500, exploration = 0.1, verbose = False, policy = None):\n",
        "  if policy is None: # with no previous policy knowledge, set q values to 0\n",
        "    q_vals = np.zeros((4,12,4))\n",
        "  else: # if we have policy, set q values to that policy\n",
        "    q_vals = policy\n",
        "\n",
        "  rewards = []\n",
        "  final_states = []\n",
        "\n",
        "  for i in range(episodes):\n",
        "    if verbose: print('Iteration:', i+1, '\\n')\n",
        "    state = [3,0]\n",
        "    episode_reward = 0\n",
        "    done = False\n",
        "    stepcount = 1\n",
        "    while not done:\n",
        "      # determine action\n",
        "      if verbose: print('State:', state)\n",
        "      action = egreedy(q_vals, state, policy, exploration)\n",
        "      ## if verbose: print('Action:', action)\n",
        "      # take action\n",
        "      next_state, reward, done = step(state, action)\n",
        "      ## if verbose: print('Next state:', next_state, '\\nReward:', reward, '\\nDone:', done)\n",
        "      episode_reward += reward\n",
        "      # update q_vals\n",
        "      if done:\n",
        "        q_vals[state[0], state[1], action] = reward\n",
        "      else:\n",
        "        max_action = np.max(q_vals[next_state[0], next_state[1], possible_actions(next_state)])\n",
        "        q_vals[state[0], state[1], action] = reward + max_action\n",
        "      # update state\n",
        "      state = next_state\n",
        "      # update step count\n",
        "      ## if verbose: print(f'Step {stepcount} complete \\n')\n",
        "      stepcount += 1\n",
        "\n",
        "    stepcount = 1\n",
        "    if verbose:\n",
        "      #if i == 0 or i % 100 == 99:\n",
        "      print('Final state:', state)\n",
        "      print(f'\\nEpisode {i+1} reward:', episode_reward, '\\n')\n",
        "\n",
        "    final_states.append(state)\n",
        "    rewards.append(episode_reward)\n",
        "\n",
        "  return final_states, rewards, q_vals"
      ],
      "metadata": {
        "id": "O9BkBDNHbmL8"
      },
      "id": "O9BkBDNHbmL8",
      "execution_count": null,
      "outputs": []
    },
    {
      "cell_type": "markdown",
      "id": "767a4d4a-e3aa-4a24-9e5d-a240fc62cb17",
      "metadata": {
        "id": "767a4d4a-e3aa-4a24-9e5d-a240fc62cb17"
      },
      "source": [
        "**Note to grader for partial credit:**  \n",
        "Student answers in parts 3-5 should help understand if the algorithm is implemented correctly.  \n"
      ]
    },
    {
      "cell_type": "markdown",
      "id": "51e96184-aaed-4ae4-a60b-805c5b9cd3b9",
      "metadata": {
        "id": "51e96184-aaed-4ae4-a60b-805c5b9cd3b9"
      },
      "source": [
        "#### 3) After training the policy, print the row from the Q-table representing the starting state  "
      ]
    },
    {
      "cell_type": "code",
      "execution_count": null,
      "id": "118436aa-0c5f-48c1-b591-4db800347b13",
      "metadata": {
        "id": "118436aa-0c5f-48c1-b591-4db800347b13",
        "outputId": "6bd6ae5b-5fe2-4d65-9c00-ec4c1251d293",
        "colab": {
          "base_uri": "https://localhost:8080/"
        }
      },
      "outputs": [
        {
          "output_type": "execute_result",
          "data": {
            "text/plain": [
              "array([   0., -100.,  -12.,    0.])"
            ]
          },
          "metadata": {},
          "execution_count": 9
        }
      ],
      "source": [
        "final_states, rewards, q_vals = q_learning(episodes = 500, exploration = 0.1)\n",
        "q_vals[3,0]"
      ]
    },
    {
      "cell_type": "markdown",
      "source": [
        "This makes sense as the agent is not able to move down or left so those actions are still zeros like the default values. Moving right would send the agent into the cliff area, so that value is -100, and going up is -12 as the agent is 12 steps away from the goal state (with the ideal path)."
      ],
      "metadata": {
        "id": "VI9Y6npAEzH7"
      },
      "id": "VI9Y6npAEzH7"
    },
    {
      "cell_type": "markdown",
      "id": "393287b5-68ac-4d41-989c-aceab3258b64",
      "metadata": {
        "id": "393287b5-68ac-4d41-989c-aceab3258b64"
      },
      "source": [
        "#### 4) Based on training results, create a plot that shows final state of each episode on the y-axis, and the episode number on the x-axis"
      ]
    },
    {
      "cell_type": "code",
      "execution_count": null,
      "id": "af571316-3ec4-437b-ab46-174323417c6b",
      "metadata": {
        "id": "af571316-3ec4-437b-ab46-174323417c6b",
        "outputId": "e9fcf2a8-fd2e-4f90-8cf0-fc2730366095",
        "colab": {
          "base_uri": "https://localhost:8080/",
          "height": 564
        }
      },
      "outputs": [
        {
          "output_type": "display_data",
          "data": {
            "text/plain": [
              "<Figure size 1000x600 with 1 Axes>"
            ],
            "image/png": "[encoded data removed]"
          },
          "metadata": {}
        }
      ],
      "source": [
        "# Need to convert final [x,y] states into single values, row*12 + col, 0-47\n",
        "final_states_adj = [state[0] * 12 + state[1] for state in final_states]\n",
        "\n",
        "plt.figure(figsize=(10, 6))\n",
        "\n",
        "plt.scatter(range(1, 501), final_states_adj, s=10)\n",
        "\n",
        "plt.xlabel(\"Episode Number\")\n",
        "plt.ylabel(\"Combined Final State Value\")\n",
        "plt.title(\"Combined Final State Value vs. Episode Number\")\n",
        "\n",
        "plt.grid(True, linestyle=\"--\", alpha=0.5)\n",
        "\n",
        "plt.show()"
      ]
    },
    {
      "cell_type": "markdown",
      "source": [
        "The outcomes from this plot show that the end state (value 3*12+11 = 47) is reached a majority of the time. The range also has a lower bound of 37 because the furthest left cliff state has the smallest value of all terminal states. While some mistakes are made throughout, after the first 10 or so iterations, the agent figures out how to reach the end state often by avoiding the cliff."
      ],
      "metadata": {
        "id": "nqZVUI7AChjE"
      },
      "id": "nqZVUI7AChjE"
    },
    {
      "cell_type": "markdown",
      "id": "b2f5f2af-00cc-4010-8481-54b399d794c7",
      "metadata": {
        "tags": [],
        "id": "b2f5f2af-00cc-4010-8481-54b399d794c7"
      },
      "source": [
        "#### 5) Given the learned policy, run one episode\n",
        "\n",
        "Show evidence that the agent has learned how to successfully complete the Cliff walk"
      ]
    },
    {
      "cell_type": "code",
      "execution_count": null,
      "id": "5513b617-9f9f-484f-96ca-cf55f3d922a4",
      "metadata": {
        "tags": [],
        "id": "5513b617-9f9f-484f-96ca-cf55f3d922a4",
        "outputId": "663ae082-ad3b-4f73-c87c-5176a4bf37fb",
        "colab": {
          "base_uri": "https://localhost:8080/"
        }
      },
      "outputs": [
        {
          "output_type": "stream",
          "name": "stdout",
          "text": [
            "Iteration: 1 \n",
            "\n",
            "State: [3, 0]\n",
            "State: [2, 0]\n",
            "State: [2, 1]\n",
            "State: [2, 2]\n",
            "State: [2, 3]\n",
            "State: [2, 4]\n",
            "State: [2, 5]\n",
            "State: [2, 6]\n",
            "State: [2, 7]\n",
            "State: [2, 8]\n",
            "State: [2, 9]\n",
            "State: [2, 10]\n",
            "State: [2, 11]\n",
            "Final state: [3, 11]\n",
            "\n",
            "Episode 1 reward: -12 \n",
            "\n"
          ]
        }
      ],
      "source": [
        "final_states, rewards, q_vals = q_learning(episodes = 1, exploration = 0.1, verbose=True, policy = q_vals)"
      ]
    },
    {
      "cell_type": "markdown",
      "id": "c67d9ccd-f5f5-4fa4-89b7-160515f13963",
      "metadata": {
        "id": "c67d9ccd-f5f5-4fa4-89b7-160515f13963"
      },
      "source": [
        "#### 6) Explain your results. Do they make sense?\n",
        "**(POINTS: 2)**"
      ]
    },
    {
      "cell_type": "markdown",
      "source": [
        "Yes, these results make sense as the agent is able to go from the initial state to the goal state in only 12 steps (the minimum based on the distance and cliff obstacle) when following the learned q-values policy. The agent initially moves up, then all the way to the right of the state space, then down to the goal state, which is shown in the output above. The final reward is -12 as that is the largest which can be achieved when -1 is awarded during each step iteration. This was an interesting simple application of q-learning and it was cool to see convergence relatively quickly."
      ],
      "metadata": {
        "id": "xFEEpCUdHXgC"
      },
      "id": "xFEEpCUdHXgC"
    },
    {
      "cell_type": "markdown",
      "id": "ee75f999-5002-4055-88d4-3d2eb67bad50",
      "metadata": {
        "id": "ee75f999-5002-4055-88d4-3d2eb67bad50"
      },
      "source": [
        "**Note to grader for partial credit:** Grade based on the reasoning."
      ]
    }
  ],
  "metadata": {
    "kernelspec": {
      "display_name": "Python 3 (ipykernel)",
      "language": "python",
      "name": "python3"
    },
    "language_info": {
      "codemirror_mode": {
        "name": "ipython",
        "version": 3
      },
      "file_extension": ".py",
      "mimetype": "text/x-python",
      "name": "python",
      "nbconvert_exporter": "python",
      "pygments_lexer": "ipython3",
      "version": "3.9.12"
    },
    "colab": {
      "provenance": []
    }
  },
  "nbformat": 4,
  "nbformat_minor": 5
}
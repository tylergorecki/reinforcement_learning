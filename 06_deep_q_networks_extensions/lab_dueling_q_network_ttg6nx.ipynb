{
  "cells": [
    {
      "cell_type": "markdown",
      "id": "d2ba6549-8b15-4f95-9615-549dd5fa2f7c",
      "metadata": {
        "id": "d2ba6549-8b15-4f95-9615-549dd5fa2f7c"
      },
      "source": [
        "### Lab: Navigating the Lunar Lander with a Dueling Deep Q Network\n",
        "\n",
        "### University of Virginia\n",
        "### Reinforcement Learning\n",
        "#### Last updated: February 27, 2024\n",
        "\n",
        "---"
      ]
    },
    {
      "cell_type": "markdown",
      "id": "2afeab41-bd5f-40e8-ad2f-e8999f13ed45",
      "metadata": {
        "id": "2afeab41-bd5f-40e8-ad2f-e8999f13ed45"
      },
      "source": [
        "#### Instructions:\n",
        "\n",
        "You will work with the `LunarLander-v2` environment from `gymnasium` in this lab.  \n",
        "An overview of the environment can be found [here](https://www.gymlibrary.dev/environments/box2d/lunar_lander/).  \n",
        "If you're curious about the source code, see [here](https://github.com/openai/gym/blob/master/gym/envs/box2d/lunar_lander.py).\n",
        "\n",
        "Your mission will be to implement a dueling deep Q -network using PyTorch.  \n",
        "You might run this on Colab.\n",
        "\n",
        "There are a few specific tasks outlined below for you to solve.\n",
        "\n",
        "The bigger tasks will be to:\n",
        "\n",
        "- Show that the algorithm works to train the agent in the environment\n",
        "- Run episodes and show the results\n",
        "\n",
        "**Submission**  \n",
        "As you will likely have several files including this notebook, you can zip all files and submit.\n",
        "\n",
        "---"
      ]
    },
    {
      "cell_type": "markdown",
      "id": "285f77b4-736e-4287-a570-2ecb5158e1b5",
      "metadata": {
        "id": "285f77b4-736e-4287-a570-2ecb5158e1b5"
      },
      "source": [
        "![lunar](https://github.com/tylergorecki/reinforcement_learning/blob/mywork/06_deep_q_networks_extensions/lunar_lander1.png?raw=1)"
      ]
    },
    {
      "cell_type": "markdown",
      "id": "7c322b08-1720-43e0-a3b0-0788fc33b6a7",
      "metadata": {
        "id": "7c322b08-1720-43e0-a3b0-0788fc33b6a7"
      },
      "source": [
        "#### TOTAL POINTS: 12\n",
        "\n",
        "---"
      ]
    },
    {
      "cell_type": "markdown",
      "id": "aaec7e91-2f9e-4bae-8605-6a7f0d46e8a9",
      "metadata": {
        "id": "aaec7e91-2f9e-4bae-8605-6a7f0d46e8a9"
      },
      "source": [
        "**Hint:** Modules you may need to install include:"
      ]
    },
    {
      "cell_type": "markdown",
      "id": "15e46143-14c0-45da-8268-2a4c7295ca0c",
      "metadata": {
        "id": "15e46143-14c0-45da-8268-2a4c7295ca0c"
      },
      "source": [
        "swig  \n",
        "gym[box2d]  \n",
        "gymnasium"
      ]
    },
    {
      "cell_type": "markdown",
      "id": "53817399-20ed-42eb-ae9e-9b76369de8eb",
      "metadata": {
        "id": "53817399-20ed-42eb-ae9e-9b76369de8eb"
      },
      "source": [
        "#### 1) What is the penalty for crashing?  \n",
        "**(POINTS: 1)**\n"
      ]
    },
    {
      "cell_type": "markdown",
      "id": "0599cdf7-e5b8-4d62-8ac1-bd507f10084a",
      "metadata": {
        "id": "0599cdf7-e5b8-4d62-8ac1-bd507f10084a"
      },
      "source": [
        "-100 points"
      ]
    },
    {
      "cell_type": "markdown",
      "id": "7a304cd5-72e7-4f53-95d4-1cb9fcfb1d1f",
      "metadata": {
        "id": "7a304cd5-72e7-4f53-95d4-1cb9fcfb1d1f"
      },
      "source": [
        "#### 2) Set up the environment and run 2 steps by taking random actions.\n",
        "**(POINTS: 1)**"
      ]
    },
    {
      "cell_type": "markdown",
      "source": [
        "Note: used LunarLander-v3 because it said v2 was deprecated"
      ],
      "metadata": {
        "id": "_jYG0lIoxHYz"
      },
      "id": "_jYG0lIoxHYz"
    },
    {
      "cell_type": "code",
      "source": [
        "!pip install swig\n",
        "!pip install gymnasium[box2d]\n",
        "!pip install gymnasium"
      ],
      "metadata": {
        "id": "SAgrQ60l795T",
        "outputId": "e2a8096c-3fcf-4c35-cd49-81e79e8f7037",
        "colab": {
          "base_uri": "https://localhost:8080/"
        }
      },
      "id": "SAgrQ60l795T",
      "execution_count": 13,
      "outputs": [
        {
          "output_type": "stream",
          "name": "stdout",
          "text": [
            "Requirement already satisfied: swig in /usr/local/lib/python3.11/dist-packages (4.3.0)\n",
            "Requirement already satisfied: gymnasium[box2d] in /usr/local/lib/python3.11/dist-packages (1.1.1)\n",
            "Requirement already satisfied: numpy>=1.21.0 in /usr/local/lib/python3.11/dist-packages (from gymnasium[box2d]) (1.26.4)\n",
            "Requirement already satisfied: cloudpickle>=1.2.0 in /usr/local/lib/python3.11/dist-packages (from gymnasium[box2d]) (3.1.1)\n",
            "Requirement already satisfied: typing-extensions>=4.3.0 in /usr/local/lib/python3.11/dist-packages (from gymnasium[box2d]) (4.12.2)\n",
            "Requirement already satisfied: farama-notifications>=0.0.1 in /usr/local/lib/python3.11/dist-packages (from gymnasium[box2d]) (0.0.4)\n",
            "Requirement already satisfied: box2d-py==2.3.5 in /usr/local/lib/python3.11/dist-packages (from gymnasium[box2d]) (2.3.5)\n",
            "Requirement already satisfied: pygame>=2.1.3 in /usr/local/lib/python3.11/dist-packages (from gymnasium[box2d]) (2.6.1)\n",
            "Requirement already satisfied: swig==4.* in /usr/local/lib/python3.11/dist-packages (from gymnasium[box2d]) (4.3.0)\n",
            "Requirement already satisfied: gymnasium in /usr/local/lib/python3.11/dist-packages (1.1.1)\n",
            "Requirement already satisfied: numpy>=1.21.0 in /usr/local/lib/python3.11/dist-packages (from gymnasium) (1.26.4)\n",
            "Requirement already satisfied: cloudpickle>=1.2.0 in /usr/local/lib/python3.11/dist-packages (from gymnasium) (3.1.1)\n",
            "Requirement already satisfied: typing-extensions>=4.3.0 in /usr/local/lib/python3.11/dist-packages (from gymnasium) (4.12.2)\n",
            "Requirement already satisfied: farama-notifications>=0.0.1 in /usr/local/lib/python3.11/dist-packages (from gymnasium) (0.0.4)\n"
          ]
        }
      ]
    },
    {
      "cell_type": "code",
      "source": [
        "import gymnasium as gym\n",
        "import numpy as np\n",
        "\n",
        "env = gym.make(\"LunarLander-v3\")\n",
        "env.reset(seed = 7540)\n",
        "\n",
        "print('State shape:', env.observation_space.shape)\n",
        "print('Num actions:', env.action_space.n)\n",
        "\n",
        "rewards = list()\n",
        "\n",
        "for i in range(2):\n",
        "    action = env.action_space.sample()\n",
        "    observation, reward, terminated, truncated, info = env.step(action)\n",
        "    rewards.append(reward)\n",
        "\n",
        "print('Average rewards with two random steps:', round(np.mean(rewards), 2))"
      ],
      "metadata": {
        "id": "d7_p2W3osgk9",
        "outputId": "a0d17e80-fd5e-49b1-f423-1006a6db9932",
        "colab": {
          "base_uri": "https://localhost:8080/"
        }
      },
      "id": "d7_p2W3osgk9",
      "execution_count": 14,
      "outputs": [
        {
          "output_type": "stream",
          "name": "stdout",
          "text": [
            "State shape: (8,)\n",
            "Num actions: 4\n",
            "Average rewards with two random steps: 1.43\n"
          ]
        }
      ]
    },
    {
      "cell_type": "markdown",
      "id": "e6704924-c33d-4135-bd79-7ffef75e7aa9",
      "metadata": {
        "id": "e6704924-c33d-4135-bd79-7ffef75e7aa9"
      },
      "source": [
        "#### 3) Briefly discuss your approach to solving the problem  \n",
        "**(POINTS: 2)**"
      ]
    },
    {
      "cell_type": "markdown",
      "source": [
        "The basic approach is to create a couple of neural network layers processing the data before creating a split that calculates the value and advantages of multiple states and actions. These separate values are then combined to create the Q-values, which are used to learn over time. The goal is for the environment to be understood enough by the agent that we are able to consistently have successful safe landings by the lunar object when testing it using the fully trained agent."
      ],
      "metadata": {
        "id": "Ly95S_LaaXZQ"
      },
      "id": "Ly95S_LaaXZQ"
    },
    {
      "cell_type": "markdown",
      "id": "894d315f-ed95-4b9a-b6f5-53e1305d272a",
      "metadata": {
        "id": "894d315f-ed95-4b9a-b6f5-53e1305d272a"
      },
      "source": [
        "#### 4) Create supporting code files (`.py` format) to create the agent, train, and run episodes\n",
        "**(POINTS: 6)**\n",
        "\n",
        "Your code should include:\n",
        "\n",
        "- **(POINTS: 1)** A class for the dueling DQN agent\n",
        "- **(POINTS: 1)** An architecture with separate Value and Advantage streams\n",
        "- **(POINTS: 1)** A method called `forward()` for the forward pass of the algorithm\n",
        "- **(POINTS: 1)** A replay buffer\n",
        "- **(POINTS: 1)** A training function\n",
        "- **(POINTS: 1)** A function to run episodes"
      ]
    },
    {
      "cell_type": "markdown",
      "source": [
        "Setup"
      ],
      "metadata": {
        "id": "OE40UY_dxlxE"
      },
      "id": "OE40UY_dxlxE"
    },
    {
      "cell_type": "code",
      "source": [
        "import torch\n",
        "import torch.nn as nn\n",
        "import torch.optim as optim\n",
        "import numpy as np\n",
        "import random\n",
        "from collections import deque\n",
        "import gymnasium as gym\n",
        "import imageio\n",
        "\n",
        "model_path = 'dueling_dqn_model.pth'"
      ],
      "metadata": {
        "id": "P2x5NvB4xpv2"
      },
      "id": "P2x5NvB4xpv2",
      "execution_count": 15,
      "outputs": []
    },
    {
      "cell_type": "markdown",
      "source": [
        "Class for dueling DQN agent with separate value and advantage streams and a forward() function"
      ],
      "metadata": {
        "id": "W7qDiFtGxhHC"
      },
      "id": "W7qDiFtGxhHC"
    },
    {
      "cell_type": "code",
      "source": [
        "# Dueling DQN agent class\n",
        "class DuelingDQN(nn.Module):\n",
        "    def __init__(self, n_state, n_action, hidden_1=64, hidden_2=64, hidden_3=64):\n",
        "        super(DuelingDQN, self).__init__()\n",
        "        self.n_state = n_state\n",
        "\n",
        "        # base stream\n",
        "        self.dense_1 = nn.Linear(n_state, hidden_1)\n",
        "        self.dense_2 = nn.Linear(hidden_1, hidden_2)\n",
        "\n",
        "        # value stream\n",
        "        self.value_1 = nn.Linear(hidden_2, hidden_3)\n",
        "        self.value_2 = nn.Linear(hidden_3, 1)\n",
        "\n",
        "        # advantage stream\n",
        "        self.advantage_1 = nn.Linear(hidden_2, hidden_3)\n",
        "        self.advantage_2 = nn.Linear(hidden_3, n_action)\n",
        "\n",
        "    def forward(self, state):\n",
        "\n",
        "        # calculate base stream output\n",
        "        dense_1_out = torch.relu(self.dense_1(state))\n",
        "        dense_2_out = torch.relu(self.dense_2(dense_1_out))\n",
        "\n",
        "        # calculate values\n",
        "        value_1_out = torch.relu(self.value_1(dense_2_out))\n",
        "        value_2_out = self.value_2(value_1_out)\n",
        "\n",
        "        # calculate advantages\n",
        "        advantage_1_out = torch.relu(self.advantage_1(dense_2_out))\n",
        "        advantage_2_out = self.advantage_2(advantage_1_out)\n",
        "\n",
        "        # calculate mean advantage\n",
        "        advantage_mean = torch.mean(advantage_2_out, dim=1, keepdim=True)\n",
        "\n",
        "        # q values = difference between advantages and mean advantage + values\n",
        "        q_values = advantage_2_out - advantage_mean + value_2_out\n",
        "\n",
        "        return q_values"
      ],
      "metadata": {
        "id": "pDt3PjhYxfOu"
      },
      "id": "pDt3PjhYxfOu",
      "execution_count": 16,
      "outputs": []
    },
    {
      "cell_type": "markdown",
      "source": [
        "Replay buffer class"
      ],
      "metadata": {
        "id": "W-EKlkHQxrIK"
      },
      "id": "W-EKlkHQxrIK"
    },
    {
      "cell_type": "code",
      "source": [
        "class ReplayBuffer:\n",
        "    def __init__(self, capacity):\n",
        "        # setup double ended queue\n",
        "        self.buffer = deque(maxlen=capacity)\n",
        "\n",
        "    def add(self, state, action, reward, next_state, done):\n",
        "        # add state transition to replay buffer\n",
        "        self.buffer.append((state, action, reward, next_state, done))\n",
        "\n",
        "    def sample(self, batch_size):\n",
        "        # sample batch of transitions from all replay buffers\n",
        "        batch = random.sample(self.buffer, batch_size)\n",
        "        states, actions, rewards, next_states, dones = zip(*batch)\n",
        "        return np.array(states), np.array(actions), np.array(rewards, dtype=np.float32), np.array(next_states), np.array(dones, dtype=np.float32)\n",
        "\n",
        "    def __len__(self):\n",
        "        # return length of replay buffer\n",
        "        return len(self.buffer)"
      ],
      "metadata": {
        "id": "nv22pJ8sxc6y"
      },
      "id": "nv22pJ8sxc6y",
      "execution_count": 17,
      "outputs": []
    },
    {
      "cell_type": "markdown",
      "source": [
        "Training function"
      ],
      "metadata": {
        "id": "b9n5daX7xthE"
      },
      "id": "b9n5daX7xthE"
    },
    {
      "cell_type": "code",
      "source": [
        "def train(agent, target_agent, replay_buffer, optimizer, gamma, batch_size):\n",
        "    # if batch size is greater than the size of the replay buffer then we can't sample enough\n",
        "    if len(replay_buffer) < batch_size:\n",
        "        return\n",
        "\n",
        "    # sample from replay buffer, convert each list of values to tensors\n",
        "    states, actions, rewards, next_states, dones = replay_buffer.sample(batch_size)\n",
        "    states = torch.FloatTensor(states)\n",
        "    actions = torch.LongTensor(actions)\n",
        "    rewards = torch.FloatTensor(rewards)\n",
        "    next_states = torch.FloatTensor(next_states)\n",
        "    dones = torch.FloatTensor(dones)\n",
        "\n",
        "    # get the q values for each of the states\n",
        "    q_values = agent(states)\n",
        "    q_values_next = target_agent(next_states).detach()\n",
        "    # calculate the target q values\n",
        "    q_values_target = rewards + gamma * torch.max(q_values_next, dim=1)[0] * (1 - dones)\n",
        "    q_values_selected = q_values.gather(1, actions.unsqueeze(1)).squeeze(1)\n",
        "    # calculate the loss between the target q values and the samples q values\n",
        "    loss = nn.MSELoss()(q_values_target, q_values_selected)\n",
        "\n",
        "    # reset gradients\n",
        "    optimizer.zero_grad()\n",
        "    # compute gradients based on the calculated loss\n",
        "    loss.backward()\n",
        "    # update model using computed gradients\n",
        "    optimizer.step()"
      ],
      "metadata": {
        "id": "g-p7qIRhxbjl"
      },
      "id": "g-p7qIRhxbjl",
      "execution_count": 18,
      "outputs": []
    },
    {
      "cell_type": "markdown",
      "source": [
        "Function to run episodes"
      ],
      "metadata": {
        "id": "SwdzUEEkxuxY"
      },
      "id": "SwdzUEEkxuxY"
    },
    {
      "cell_type": "code",
      "source": [
        "def run_episode(env, agent, target_agent, replay_buffer, optimizer, gamma, batch_size, epsilon, render=False, video_frames=None):\n",
        "    # in each episode, reset env and go through a step\n",
        "    state, _ = env.reset()\n",
        "    state = np.array(state)\n",
        "    done = False\n",
        "    total_reward = 0\n",
        "\n",
        "    # in case I want to render a specific run\n",
        "    while not done:\n",
        "        if render:\n",
        "            frame = env.render()\n",
        "            if video_frames is not None:\n",
        "                video_frames.append(frame)\n",
        "\n",
        "        if random.random() < epsilon:\n",
        "            action = env.action_space.sample()\n",
        "        else:\n",
        "            state_tensor = torch.FloatTensor(state).unsqueeze(0)\n",
        "            q_values = agent(state_tensor)\n",
        "            action = torch.argmax(q_values).item()\n",
        "\n",
        "        next_state, reward, done, truncated, _ = env.step(action)\n",
        "        next_state = np.array(next_state)\n",
        "        done = done or truncated\n",
        "        # add transition to replay buffer\n",
        "        replay_buffer.add(state, action, reward, next_state, done)\n",
        "        # call train function which computes gradients using replay buffer\n",
        "        train(agent, target_agent, replay_buffer, optimizer, gamma, batch_size)\n",
        "\n",
        "        state = next_state\n",
        "        total_reward += reward\n",
        "\n",
        "    if render:\n",
        "        frame = env.render()\n",
        "        if video_frames is not None:\n",
        "            video_frames.append(frame)\n",
        "\n",
        "    # return summed rewards from all steps\n",
        "    return total_reward"
      ],
      "metadata": {
        "id": "Na8qWpz7xaAX"
      },
      "id": "Na8qWpz7xaAX",
      "execution_count": 19,
      "outputs": []
    },
    {
      "cell_type": "markdown",
      "source": [
        "Testing function"
      ],
      "metadata": {
        "id": "W0ZPoHsNxwXB"
      },
      "id": "W0ZPoHsNxwXB"
    },
    {
      "cell_type": "code",
      "source": [
        "def test_dueling_dqn(env_name=\"LunarLander-v3\", episodes=200, batch_size=32, gamma=0.99, epsilon_start=1.0, epsilon_end=0.01, epsilon_decay=0.999, target_update_freq=10, render_episode=None, video_filename=\"dueling_dqn_video.mp4\"):\n",
        "    # setup environment\n",
        "    env = gym.make(env_name, render_mode=None)\n",
        "    n_state = env.observation_space.shape[0]\n",
        "    n_action = env.action_space.n\n",
        "\n",
        "    # setup inline policy and target policy\n",
        "    agent = DuelingDQN(n_state, n_action)\n",
        "    target_agent = DuelingDQN(n_state, n_action)\n",
        "    target_agent.load_state_dict(agent.state_dict())\n",
        "    optimizer = optim.Adam(agent.parameters(), lr=0.001)\n",
        "    replay_buffer = ReplayBuffer(capacity=10000)\n",
        "\n",
        "    epsilon = epsilon_start\n",
        "    # track rewards\n",
        "    rewards = []\n",
        "\n",
        "    # loop through episodes while updating policy\n",
        "    for episode in range(episodes):\n",
        "        video_frames = [] if episode == render_episode else None\n",
        "        reward = run_episode(env, agent, target_agent, replay_buffer, optimizer, gamma, batch_size, epsilon, render=(episode == render_episode), video_frames=video_frames)\n",
        "        rewards.append(reward)\n",
        "        epsilon = max(epsilon_end, epsilon * epsilon_decay)\n",
        "\n",
        "        if episode % target_update_freq == 0:\n",
        "            target_agent.load_state_dict(agent.state_dict())\n",
        "\n",
        "        if episode % 10 == 0:\n",
        "            print(f\"Episode {episode}, Reward: {reward}, Epsilon: {epsilon}\")\n",
        "\n",
        "        if episode == render_episode and video_frames:\n",
        "            imageio.mimsave(video_filename, video_frames, fps=30)\n",
        "            print(f\"Video saved to {video_filename}\")\n",
        "\n",
        "    env.close()\n",
        "    # save agent to colab\n",
        "    torch.save(agent.state_dict(), model_path)\n",
        "    # return list of rewards\n",
        "    return rewards"
      ],
      "metadata": {
        "id": "zh0XmNTTxYYm"
      },
      "id": "zh0XmNTTxYYm",
      "execution_count": 20,
      "outputs": []
    },
    {
      "cell_type": "markdown",
      "source": [
        "#### 5) Run the training and show evidence that the agent is learning.  \n",
        "\n",
        "For example, its average reward (score) should increase with more episodes.\n",
        "\n",
        "**(POINTS: 1 if successful)**"
      ],
      "metadata": {
        "id": "bkucaqPeiFzq"
      },
      "id": "bkucaqPeiFzq"
    },
    {
      "cell_type": "code",
      "source": [
        "rewards = test_dueling_dqn(episodes=1000)"
      ],
      "metadata": {
        "id": "Hjof6xmhbDv2",
        "outputId": "a9ab2066-c660-4578-ce10-3d8058b90b60",
        "colab": {
          "base_uri": "https://localhost:8080/"
        }
      },
      "id": "Hjof6xmhbDv2",
      "execution_count": 21,
      "outputs": [
        {
          "output_type": "stream",
          "name": "stdout",
          "text": [
            "Episode 0, Reward: -94.16375502633221, Epsilon: 0.999\n",
            "Episode 10, Reward: -110.10387503398626, Epsilon: 0.9890548353295385\n",
            "Episode 20, Reward: -257.54962140058865, Epsilon: 0.9792086759647052\n",
            "Episode 30, Reward: -197.23312232765102, Epsilon: 0.9694605362958227\n",
            "Episode 40, Reward: -134.02048159907585, Epsilon: 0.959809440525076\n",
            "Episode 50, Reward: -76.90883501882205, Epsilon: 0.9502544225688344\n",
            "Episode 60, Reward: -225.8891313132396, Epsilon: 0.9407945259609451\n",
            "Episode 70, Reward: -282.8346557466724, Epsilon: 0.9314288037569908\n",
            "Episode 80, Reward: -136.85174327301644, Epsilon: 0.9221563184394991\n",
            "Episode 90, Reward: -281.8181281643293, Epsilon: 0.9129761418240965\n",
            "Episode 100, Reward: -105.82081942865474, Epsilon: 0.9038873549665959\n",
            "Episode 110, Reward: -87.55437470219613, Epsilon: 0.8948890480710096\n",
            "Episode 120, Reward: -189.67445428177817, Epsilon: 0.8859803203984784\n",
            "Episode 130, Reward: -102.9575370180453, Epsilon: 0.8771602801771059\n",
            "Episode 140, Reward: -86.61406145802815, Epsilon: 0.8684280445126921\n",
            "Episode 150, Reward: -262.19457003232844, Epsilon: 0.8597827393003539\n",
            "Episode 160, Reward: -125.14318519101923, Epsilon: 0.8512234991370281\n",
            "Episode 170, Reward: -44.395123996772526, Epsilon: 0.8427494672348417\n",
            "Episode 180, Reward: -88.38927062885604, Epsilon: 0.8343597953353479\n",
            "Episode 190, Reward: -103.3909481249585, Epsilon: 0.8260536436246144\n",
            "Episode 200, Reward: -75.92897786405942, Epsilon: 0.8178301806491574\n",
            "Episode 210, Reward: -107.99265860959055, Epsilon: 0.8096885832327116\n",
            "Episode 220, Reward: -25.965112028969514, Epsilon: 0.8016280363938307\n",
            "Episode 230, Reward: -52.449608590156984, Epsilon: 0.7936477332643059\n",
            "Episode 240, Reward: -115.30062034814082, Epsilon: 0.7857468750083979\n",
            "Episode 250, Reward: -65.48165869725764, Epsilon: 0.7779246707428734\n",
            "Episode 260, Reward: -58.385873445792456, Epsilon: 0.7701803374578359\n",
            "Episode 270, Reward: -70.81718085486932, Epsilon: 0.7625130999383466\n",
            "Episode 280, Reward: -72.43149422126649, Epsilon: 0.7549221906868242\n",
            "Episode 290, Reward: -113.29900794475162, Epsilon: 0.7474068498462175\n",
            "Episode 300, Reward: -124.80496351894504, Epsilon: 0.7399663251239436\n",
            "Episode 310, Reward: -53.75586093513085, Epsilon: 0.7325998717165821\n",
            "Episode 320, Reward: 6.0313166722019815, Epsilon: 0.7253067522353204\n",
            "Episode 330, Reward: -58.76437653344907, Epsilon: 0.7180862366321393\n",
            "Episode 340, Reward: -62.487257372801295, Epsilon: 0.7109376021267352\n",
            "Episode 350, Reward: -88.32596259518147, Epsilon: 0.7038601331341691\n",
            "Episode 360, Reward: -80.17805988059422, Epsilon: 0.6968531211932361\n",
            "Episode 370, Reward: -121.20557913542476, Epsilon: 0.6899158648955466\n",
            "Episode 380, Reward: -83.81540302838089, Epsilon: 0.6830476698153162\n",
            "Episode 390, Reward: -50.93687619051897, Epsilon: 0.6762478484398523\n",
            "Episode 400, Reward: -2.7173192081630617, Epsilon: 0.6695157201007336\n",
            "Episode 410, Reward: -82.63106490329318, Epsilon: 0.662850610905674\n",
            "Episode 420, Reward: -76.08501153881531, Epsilon: 0.6562518536710664\n",
            "Episode 430, Reward: -53.15953353585935, Epsilon: 0.6497187878551962\n",
            "Episode 440, Reward: -71.35560316038777, Epsilon: 0.6432507594921204\n",
            "Episode 450, Reward: -9.893673629677366, Epsilon: 0.6368471211262058\n",
            "Episode 460, Reward: -72.73930095624114, Epsilon: 0.6305072317473174\n",
            "Episode 470, Reward: -47.31468214268021, Epsilon: 0.6242304567266527\n",
            "Episode 480, Reward: -67.80036340424718, Epsilon: 0.6180161677532153\n",
            "Episode 490, Reward: -60.8466959337222, Epsilon: 0.6118637427709198\n",
            "Episode 500, Reward: -56.73443338642684, Epsilon: 0.6057725659163237\n",
            "Episode 510, Reward: -39.32436281106936, Epsilon: 0.5997420274569785\n",
            "Episode 520, Reward: -62.182143939451244, Epsilon: 0.5937715237303958\n",
            "Episode 530, Reward: -77.91265685629634, Epsilon: 0.5878604570836192\n",
            "Episode 540, Reward: -45.260170219551824, Epsilon: 0.5820082358133997\n",
            "Episode 550, Reward: -53.5131750009725, Epsilon: 0.576214274106964\n",
            "Episode 560, Reward: -49.12292308356095, Epsilon: 0.5704779919833761\n",
            "Episode 570, Reward: -112.28728323859062, Epsilon: 0.5647988152354793\n",
            "Episode 580, Reward: -21.56088363838296, Epsilon: 0.5591761753724176\n",
            "Episode 590, Reward: -30.975389186685163, Epsilon: 0.5536095095627305\n",
            "Episode 600, Reward: -27.52825067045046, Epsilon: 0.548098260578011\n",
            "Episode 610, Reward: -15.150724398511935, Epsilon: 0.5426418767371284\n",
            "Episode 620, Reward: 25.92024330690532, Epsilon: 0.5372398118510032\n",
            "Episode 630, Reward: 14.808693466242971, Epsilon: 0.531891525167934\n",
            "Episode 640, Reward: -24.988400638499627, Epsilon: 0.5265964813194676\n",
            "Episode 650, Reward: -22.772584210721632, Epsilon: 0.5213541502668072\n",
            "Episode 660, Reward: -16.66715558087634, Epsilon: 0.5161640072477562\n",
            "Episode 670, Reward: 6.120476548408178, Epsilon: 0.5110255327241885\n",
            "Episode 680, Reward: -162.6862160407732, Epsilon: 0.505938212330042\n",
            "Episode 690, Reward: -39.84220500570892, Epsilon: 0.5009015368198305\n",
            "Episode 700, Reward: -78.0980750942091, Epsilon: 0.4959150020176678\n",
            "Episode 710, Reward: -34.13305105844347, Epsilon: 0.4909781087667989\n",
            "Episode 720, Reward: -57.876060206755156, Epsilon: 0.48609036287963414\n",
            "Episode 730, Reward: -10.104310259954616, Epsilon: 0.48125127508828036\n",
            "Episode 740, Reward: -0.05981075269836822, Epsilon: 0.47646036099556505\n",
            "Episode 750, Reward: -21.419295951273597, Epsilon: 0.47171714102654755\n",
            "Episode 760, Reward: -81.48245752945846, Epsilon: 0.4670211403805131\n",
            "Episode 770, Reward: -5.5152666579030125, Epsilon: 0.46237188898344517\n",
            "Episode 780, Reward: -9.872077162654833, Epsilon: 0.45776892144096987\n",
            "Episode 790, Reward: 37.725416661402534, Epsilon: 0.45321177699177073\n",
            "Episode 800, Reward: -29.279360622320766, Epsilon: 0.44869999946146477\n",
            "Episode 810, Reward: 5.351389833324433, Epsilon: 0.44423313721693997\n",
            "Episode 820, Reward: -65.36893776169029, Epsilon: 0.43981074312114604\n",
            "Episode 830, Reward: 10.63279276827275, Epsilon: 0.4354323744883354\n",
            "Episode 840, Reward: 104.09623731926484, Epsilon: 0.4310975930397502\n",
            "Episode 850, Reward: -13.055102325691138, Epsilon: 0.4268059648597502\n",
            "Episode 860, Reward: 106.22208251585995, Epsilon: 0.42255706035237733\n",
            "Episode 870, Reward: -437.2512315565777, Epsilon: 0.41835045419835276\n",
            "Episode 880, Reward: 132.27430667595817, Epsilon: 0.4141857253125019\n",
            "Episode 890, Reward: -6.867189434304734, Epsilon: 0.41006245680160364\n",
            "Episode 900, Reward: 32.02680177954633, Epsilon: 0.4059802359226587\n",
            "Episode 910, Reward: 28.348359746279925, Epsilon: 0.401938654041574\n",
            "Episode 920, Reward: 11.18028591189082, Epsilon: 0.3979373065922575\n",
            "Episode 930, Reward: -32.62105687450787, Epsilon: 0.3939757930361214\n",
            "Episode 940, Reward: 27.12372406821524, Epsilon: 0.3900537168219873\n",
            "Episode 950, Reward: 6.486438337916255, Epsilon: 0.38617068534639154\n",
            "Episode 960, Reward: -32.73543221198804, Epsilon: 0.38232630991428457\n",
            "Episode 970, Reward: 19.994781060363067, Epsilon: 0.37852020570012296\n",
            "Episode 980, Reward: -269.6002058538442, Epsilon: 0.3747519917093475\n",
            "Episode 990, Reward: -20.791262926097247, Epsilon: 0.37102129074024554\n"
          ]
        }
      ]
    },
    {
      "cell_type": "markdown",
      "source": [
        "Below shows the plot of the rewards, averaged over time"
      ],
      "metadata": {
        "id": "-wrtrcDLv1Tk"
      },
      "id": "-wrtrcDLv1Tk"
    },
    {
      "cell_type": "code",
      "source": [
        "import matplotlib.pyplot as plt\n",
        "\n",
        "cumulative_means = []\n",
        "temp_list = []\n",
        "for i, num in enumerate(rewards):\n",
        "    temp_list.append(num)\n",
        "    cumulative_mean = sum(temp_list) / len(temp_list)\n",
        "    cumulative_means.append(cumulative_mean)\n",
        "\n",
        "plt.plot(range(1, len(rewards) + 1), cumulative_means, marker='o')\n",
        "plt.xlabel(\"Number of iterations\")\n",
        "plt.ylabel(\"Rewards\")\n",
        "plt.title(\"Cumulative Mean of the Rewards\")\n",
        "plt.grid(True)\n",
        "plt.show()"
      ],
      "metadata": {
        "id": "btGbrWlebkni",
        "outputId": "6b5f96ff-961a-4852-a464-1873fe700299",
        "colab": {
          "base_uri": "https://localhost:8080/",
          "height": 472
        }
      },
      "id": "btGbrWlebkni",
      "execution_count": 22,
      "outputs": [
        {
          "output_type": "display_data",
          "data": {
            "text/plain": [
              "<Figure size 640x480 with 1 Axes>"
            ],
            "image/png": "[encoded data removed]"
          },
          "metadata": {}
        }
      ]
    },
    {
      "cell_type": "markdown",
      "source": [
        "The plot above shows that the average reward does increase over time, but it does not converge to values above/around 200 in the 500 iterations (I guess the mean would take much longer to reach that 200 mark). I am not sure what I should have changed to get this to converge faster, but there's promise in the existing implementation. If I had more time, I would try to decrease the epsilon decay to allow for more exploration longer. I typically find that it helps with the output but there does not seem to be a strong enough increase in performance yet. With this being said, though, I am unfortunately coming up on the deadline so I won't be able to change that for my submission."
      ],
      "metadata": {
        "id": "6hos0h1ktRzu"
      },
      "id": "6hos0h1ktRzu"
    },
    {
      "cell_type": "markdown",
      "id": "94d60b6e-3530-48d5-b1d0-7f837b5a8c1c",
      "metadata": {
        "id": "94d60b6e-3530-48d5-b1d0-7f837b5a8c1c"
      },
      "source": [
        "#### 6) Run a few episodes and show results\n",
        "**(POINTS: 1 if successful)**"
      ]
    },
    {
      "cell_type": "markdown",
      "source": [
        "Code in the function is the same as training above except for the one part where it's noted. There, I am loading the agent with the developed policy from the completed training instead of creating a new one again."
      ],
      "metadata": {
        "id": "geZ0HPl-pyp_"
      },
      "id": "geZ0HPl-pyp_"
    },
    {
      "cell_type": "code",
      "source": [
        "def run_trained_policy(env_name=\"LunarLander-v3\", model_path=\"dueling_dqn_model.pth\", render=True, num_episodes=5, video_filename=\"trained_policy_video.mp4\"):\n",
        "    # setup environment\n",
        "    env = gym.make(env_name, render_mode='rgb_array')\n",
        "    n_state = env.observation_space.shape[0]\n",
        "    n_action = env.action_space.n\n",
        "\n",
        "    # AGENT LOADED HERE INSTEAD OF CREATING NEW ONE\n",
        "    agent = DuelingDQN(n_state, n_action)\n",
        "    agent.load_state_dict(torch.load(model_path))\n",
        "    agent.eval()\n",
        "\n",
        "    # loop through episodes with given policy\n",
        "    for episode in range(num_episodes):\n",
        "        state, _ = env.reset()\n",
        "        state = np.array(state)\n",
        "        done = False\n",
        "        total_reward = 0\n",
        "        video_frames = []\n",
        "\n",
        "        # take steps until done\n",
        "        while not done:\n",
        "            # render last episode\n",
        "            if render and episode == num_episodes -1:\n",
        "                frame = env.render()\n",
        "                video_frames.append(frame)\n",
        "\n",
        "            state_tensor = torch.FloatTensor(state).unsqueeze(0)\n",
        "            with torch.no_grad():\n",
        "                q_values = agent(state_tensor)\n",
        "                action = torch.argmax(q_values).item()\n",
        "\n",
        "            next_state, reward, done, truncated, info = env.step(action)\n",
        "            next_state = np.array(next_state)\n",
        "            done = done or truncated\n",
        "\n",
        "            state = next_state\n",
        "            total_reward += reward\n",
        "\n",
        "        print(f\"Episode {episode + 1}, Total Reward: {total_reward}\")\n",
        "\n",
        "        # save video of last episode\n",
        "        if episode == num_episodes - 1 and render:\n",
        "            imageio.mimsave(video_filename, video_frames, fps=30)\n",
        "            print(f\"Video saved to {video_filename}\")\n",
        "\n",
        "    env.close()"
      ],
      "metadata": {
        "id": "wwzHQqRMnE88"
      },
      "id": "wwzHQqRMnE88",
      "execution_count": 23,
      "outputs": []
    },
    {
      "cell_type": "code",
      "execution_count": 24,
      "id": "6fa3fffd-f96d-4773-a7bc-862cbf5eb310",
      "metadata": {
        "id": "6fa3fffd-f96d-4773-a7bc-862cbf5eb310",
        "outputId": "4c99145b-715d-4ca8-86c4-2a7c58417246",
        "colab": {
          "base_uri": "https://localhost:8080/"
        }
      },
      "outputs": [
        {
          "output_type": "stream",
          "name": "stderr",
          "text": [
            "<ipython-input-23-a00606641798>:9: FutureWarning: You are using `torch.load` with `weights_only=False` (the current default value), which uses the default pickle module implicitly. It is possible to construct malicious pickle data which will execute arbitrary code during unpickling (See https://github.com/pytorch/pytorch/blob/main/SECURITY.md#untrusted-models for more details). In a future release, the default value for `weights_only` will be flipped to `True`. This limits the functions that could be executed during unpickling. Arbitrary objects will no longer be allowed to be loaded via this mode unless they are explicitly allowlisted by the user via `torch.serialization.add_safe_globals`. We recommend you start setting `weights_only=True` for any use case where you don't have full control of the loaded file. Please open an issue on GitHub for any issues related to this experimental feature.\n",
            "  agent.load_state_dict(torch.load(model_path))\n",
            "WARNING:imageio_ffmpeg:IMAGEIO FFMPEG_WRITER WARNING: input image is not divisible by macro_block_size=16, resizing from (600, 400) to (608, 400) to ensure video compatibility with most codecs and players. To prevent resizing, make your input image divisible by the macro_block_size or set the macro_block_size to 1 (risking incompatibility).\n"
          ]
        },
        {
          "output_type": "stream",
          "name": "stdout",
          "text": [
            "Episode 1, Total Reward: 257.76748224642836\n",
            "Video saved to trained_policy_video.mp4\n"
          ]
        }
      ],
      "source": [
        "run_trained_policy(num_episodes=1)"
      ]
    },
    {
      "cell_type": "markdown",
      "source": [
        "The rewards shown above reiterate what I discussed in question 5 where they are highly variable and not converged above to 200. These runs did hit 200 twice though which was promising for my last testing run. To improve this, would I set up my neural network differently or change a different part of the code implementation?"
      ],
      "metadata": {
        "id": "AIWPcPvftoVw"
      },
      "id": "AIWPcPvftoVw"
    },
    {
      "cell_type": "markdown",
      "source": [
        "Also, just so it's noted, I gained inspiration from the following sources, existing Github code bases, and Generative AI software to properly implement the code and to understand the project better as a whole.\n",
        "- https://gymnasium.farama.org/environments/box2d/lunar_lander/#observation-space\n",
        "- https://medium.com/@sainijagjit/understanding-dueling-dqn-a-deep-dive-into-reinforcement-learning-575f6fe4328c\n",
        "- https://github.com/gouxiangchen/dueling-DQN-pytorch/blob/master/dueling_dqn.py\n",
        "- https://github.com/ejmejm/Q-Learning-Tutorials/blob/master/Dueling_Double_DQN.ipynb\n",
        "- https://github.com/ChienTeLee/dueling_dqn_lunar_lander/blob/master/Dueling_DQN_with_Prioritized_Experience_Replay.ipynb\n",
        "- ChatGPT\n",
        "- Google Gemini"
      ],
      "metadata": {
        "id": "FUOTs_lDCVTt"
      },
      "id": "FUOTs_lDCVTt"
    }
  ],
  "metadata": {
    "kernelspec": {
      "display_name": "Python 3",
      "name": "python3"
    },
    "language_info": {
      "codemirror_mode": {
        "name": "ipython",
        "version": 3
      },
      "file_extension": ".py",
      "mimetype": "text/x-python",
      "name": "python",
      "nbconvert_exporter": "python",
      "pygments_lexer": "ipython3",
      "version": "3.9.12"
    },
    "colab": {
      "provenance": [],
      "gpuType": "T4"
    },
    "accelerator": "GPU"
  },
  "nbformat": 4,
  "nbformat_minor": 5
}
{
  "cells": [
    {
      "cell_type": "markdown",
      "id": "d2ba6549-8b15-4f95-9615-549dd5fa2f7c",
      "metadata": {
        "id": "d2ba6549-8b15-4f95-9615-549dd5fa2f7c"
      },
      "source": [
        "### Lab: Navigating the Lunar Lander with a Dueling Deep Q Network\n",
        "\n",
        "### University of Virginia\n",
        "### Reinforcement Learning\n",
        "#### Last updated: February 27, 2024\n",
        "\n",
        "---"
      ]
    },
    {
      "cell_type": "markdown",
      "id": "2afeab41-bd5f-40e8-ad2f-e8999f13ed45",
      "metadata": {
        "id": "2afeab41-bd5f-40e8-ad2f-e8999f13ed45"
      },
      "source": [
        "#### Instructions:\n",
        "\n",
        "You will work with the `LunarLander-v2` environment from `gymnasium` in this lab.  \n",
        "An overview of the environment can be found [here](https://www.gymlibrary.dev/environments/box2d/lunar_lander/).  \n",
        "If you're curious about the source code, see [here](https://github.com/openai/gym/blob/master/gym/envs/box2d/lunar_lander.py).\n",
        "\n",
        "Your mission will be to implement a dueling deep Q -network using PyTorch.  \n",
        "You might run this on Colab.\n",
        "\n",
        "There are a few specific tasks outlined below for you to solve.\n",
        "\n",
        "The bigger tasks will be to:\n",
        "\n",
        "- Show that the algorithm works to train the agent in the environment\n",
        "- Run episodes and show the results\n",
        "\n",
        "**Submission**  \n",
        "As you will likely have several files including this notebook, you can zip all files and submit.\n",
        "\n",
        "---"
      ]
    },
    {
      "cell_type": "markdown",
      "id": "285f77b4-736e-4287-a570-2ecb5158e1b5",
      "metadata": {
        "id": "285f77b4-736e-4287-a570-2ecb5158e1b5"
      },
      "source": [
        "![lunar](https://github.com/tylergorecki/reinforcement_learning/blob/mywork/06_deep_q_networks_extensions/lunar_lander1.png?raw=1)"
      ]
    },
    {
      "cell_type": "markdown",
      "id": "7c322b08-1720-43e0-a3b0-0788fc33b6a7",
      "metadata": {
        "id": "7c322b08-1720-43e0-a3b0-0788fc33b6a7"
      },
      "source": [
        "#### TOTAL POINTS: 12\n",
        "\n",
        "---"
      ]
    },
    {
      "cell_type": "markdown",
      "id": "aaec7e91-2f9e-4bae-8605-6a7f0d46e8a9",
      "metadata": {
        "id": "aaec7e91-2f9e-4bae-8605-6a7f0d46e8a9"
      },
      "source": [
        "**Hint:** Modules you may need to install include:"
      ]
    },
    {
      "cell_type": "markdown",
      "id": "15e46143-14c0-45da-8268-2a4c7295ca0c",
      "metadata": {
        "id": "15e46143-14c0-45da-8268-2a4c7295ca0c"
      },
      "source": [
        "swig  \n",
        "gym[box2d]  \n",
        "gymnasium"
      ]
    },
    {
      "cell_type": "markdown",
      "id": "53817399-20ed-42eb-ae9e-9b76369de8eb",
      "metadata": {
        "id": "53817399-20ed-42eb-ae9e-9b76369de8eb"
      },
      "source": [
        "#### 1) What is the penalty for crashing?  \n",
        "**(POINTS: 1)**\n"
      ]
    },
    {
      "cell_type": "markdown",
      "id": "0599cdf7-e5b8-4d62-8ac1-bd507f10084a",
      "metadata": {
        "id": "0599cdf7-e5b8-4d62-8ac1-bd507f10084a"
      },
      "source": [
        "-100 points"
      ]
    },
    {
      "cell_type": "markdown",
      "id": "7a304cd5-72e7-4f53-95d4-1cb9fcfb1d1f",
      "metadata": {
        "id": "7a304cd5-72e7-4f53-95d4-1cb9fcfb1d1f"
      },
      "source": [
        "#### 2) Set up the environment and run 2 steps by taking random actions.\n",
        "**(POINTS: 1)**"
      ]
    },
    {
      "cell_type": "markdown",
      "source": [
        "Note: used LunarLander-v3 because it said v2 was deprecated"
      ],
      "metadata": {
        "id": "_jYG0lIoxHYz"
      },
      "id": "_jYG0lIoxHYz"
    },
    {
      "cell_type": "code",
      "source": [
        "import gymnasium as gym\n",
        "import numpy as np\n",
        "\n",
        "env = gym.make(\"LunarLander-v3\")\n",
        "env.reset(seed = 7540)\n",
        "\n",
        "print('State shape:', env.observation_space.shape)\n",
        "print('Num actions:', env.action_space.n)\n",
        "\n",
        "rewards = list()\n",
        "\n",
        "for i in range(2):\n",
        "    action = env.action_space.sample()\n",
        "    observation, reward, terminated, truncated, info = env.step(action)\n",
        "    rewards.append(reward)\n",
        "\n",
        "print('Average rewards with two random steps:', round(np.mean(rewards), 2))"
      ],
      "metadata": {
        "id": "d7_p2W3osgk9",
        "outputId": "553303f0-57bb-4e0e-b606-098fd43d82c0",
        "colab": {
          "base_uri": "https://localhost:8080/"
        }
      },
      "id": "d7_p2W3osgk9",
      "execution_count": 10,
      "outputs": [
        {
          "output_type": "stream",
          "name": "stdout",
          "text": [
            "State shape: (8,)\n",
            "Num actions: 4\n",
            "Average rewards with two random steps: -0.82\n"
          ]
        }
      ]
    },
    {
      "cell_type": "markdown",
      "id": "e6704924-c33d-4135-bd79-7ffef75e7aa9",
      "metadata": {
        "id": "e6704924-c33d-4135-bd79-7ffef75e7aa9"
      },
      "source": [
        "#### 3) Briefly discuss your approach to solving the problem  \n",
        "**(POINTS: 2)**"
      ]
    },
    {
      "cell_type": "markdown",
      "source": [
        "The basic approach is to create a couple of neural network layers processing the data before creating a split that calculates the value and advantages of multiple states and actions. These separate values are then combined to create the Q-values, which are used to learn over time. The goal is for the environment to be understood enough by the agent that we are able to consistently have successful safe landings by the lunar object when testing it using the fully trained agent."
      ],
      "metadata": {
        "id": "Ly95S_LaaXZQ"
      },
      "id": "Ly95S_LaaXZQ"
    },
    {
      "cell_type": "markdown",
      "id": "894d315f-ed95-4b9a-b6f5-53e1305d272a",
      "metadata": {
        "id": "894d315f-ed95-4b9a-b6f5-53e1305d272a"
      },
      "source": [
        "#### 4) Create supporting code files (`.py` format) to create the agent, train, and run episodes\n",
        "**(POINTS: 6)**\n",
        "\n",
        "Your code should include:\n",
        "\n",
        "- **(POINTS: 1)** A class for the dueling DQN agent\n",
        "- **(POINTS: 1)** An architecture with separate Value and Advantage streams\n",
        "- **(POINTS: 1)** A method called `forward()` for the forward pass of the algorithm\n",
        "- **(POINTS: 1)** A replay buffer\n",
        "- **(POINTS: 1)** A training function\n",
        "- **(POINTS: 1)** A function to run episodes"
      ]
    },
    {
      "cell_type": "markdown",
      "source": [
        "Setup"
      ],
      "metadata": {
        "id": "OE40UY_dxlxE"
      },
      "id": "OE40UY_dxlxE"
    },
    {
      "cell_type": "code",
      "source": [
        "import torch\n",
        "import torch.nn as nn\n",
        "import torch.optim as optim\n",
        "import numpy as np\n",
        "import random\n",
        "from collections import deque\n",
        "import gymnasium as gym\n",
        "import imageio\n",
        "\n",
        "model_path = 'dueling_dqn_model.pth'"
      ],
      "metadata": {
        "id": "P2x5NvB4xpv2"
      },
      "id": "P2x5NvB4xpv2",
      "execution_count": 80,
      "outputs": []
    },
    {
      "cell_type": "markdown",
      "source": [
        "Class for dueling DQN agent with separate value and advantage streams and a forward() function"
      ],
      "metadata": {
        "id": "W7qDiFtGxhHC"
      },
      "id": "W7qDiFtGxhHC"
    },
    {
      "cell_type": "code",
      "source": [
        "# Dueling DQN agent class\n",
        "class DuelingDQN(nn.Module):\n",
        "    def __init__(self, n_state, n_action, hidden_1=64, hidden_2=64, hidden_3=64):\n",
        "        super(DuelingDQN, self).__init__()\n",
        "        self.n_state = n_state\n",
        "\n",
        "        # base stream\n",
        "        self.dense_1 = nn.Linear(n_state, hidden_1)\n",
        "        self.dense_2 = nn.Linear(hidden_1, hidden_2)\n",
        "\n",
        "        # value stream\n",
        "        self.value_1 = nn.Linear(hidden_2, hidden_3)\n",
        "        self.value_2 = nn.Linear(hidden_3, 1)\n",
        "\n",
        "        # advantage stream\n",
        "        self.advantage_1 = nn.Linear(hidden_2, hidden_3)\n",
        "        self.advantage_2 = nn.Linear(hidden_3, n_action)\n",
        "\n",
        "    def forward(self, state):\n",
        "\n",
        "        # calculate base stream output\n",
        "        dense_1_out = torch.relu(self.dense_1(state))\n",
        "        dense_2_out = torch.relu(self.dense_2(dense_1_out))\n",
        "\n",
        "        # calculate values\n",
        "        value_1_out = torch.relu(self.value_1(dense_2_out))\n",
        "        value_2_out = self.value_2(value_1_out)\n",
        "\n",
        "        # calculate advantages\n",
        "        advantage_1_out = torch.relu(self.advantage_1(dense_2_out))\n",
        "        advantage_2_out = self.advantage_2(advantage_1_out)\n",
        "\n",
        "        # calculate mean advantage\n",
        "        advantage_mean = torch.mean(advantage_2_out, dim=1, keepdim=True)\n",
        "\n",
        "        # q values = difference between advantages and mean advantage + values\n",
        "        q_values = advantage_2_out - advantage_mean + value_2_out\n",
        "\n",
        "        return q_values"
      ],
      "metadata": {
        "id": "pDt3PjhYxfOu"
      },
      "id": "pDt3PjhYxfOu",
      "execution_count": 81,
      "outputs": []
    },
    {
      "cell_type": "markdown",
      "source": [
        "Replay buffer class"
      ],
      "metadata": {
        "id": "W-EKlkHQxrIK"
      },
      "id": "W-EKlkHQxrIK"
    },
    {
      "cell_type": "code",
      "source": [
        "class ReplayBuffer:\n",
        "    def __init__(self, capacity):\n",
        "        # setup double ended queue\n",
        "        self.buffer = deque(maxlen=capacity)\n",
        "\n",
        "    def add(self, state, action, reward, next_state, done):\n",
        "        # add state transition to replay buffer\n",
        "        self.buffer.append((state, action, reward, next_state, done))\n",
        "\n",
        "    def sample(self, batch_size):\n",
        "        # sample batch of transitions from all replay buffers\n",
        "        batch = random.sample(self.buffer, batch_size)\n",
        "        states, actions, rewards, next_states, dones = zip(*batch)\n",
        "        return np.array(states), np.array(actions), np.array(rewards, dtype=np.float32), np.array(next_states), np.array(dones, dtype=np.float32)\n",
        "\n",
        "    def __len__(self):\n",
        "        # return length of replay buffer\n",
        "        return len(self.buffer)"
      ],
      "metadata": {
        "id": "nv22pJ8sxc6y"
      },
      "id": "nv22pJ8sxc6y",
      "execution_count": 82,
      "outputs": []
    },
    {
      "cell_type": "markdown",
      "source": [
        "Training function"
      ],
      "metadata": {
        "id": "b9n5daX7xthE"
      },
      "id": "b9n5daX7xthE"
    },
    {
      "cell_type": "code",
      "source": [
        "def train(agent, target_agent, replay_buffer, optimizer, gamma, batch_size):\n",
        "    # if batch size is greater than the size of the replay buffer then we can't sample enough\n",
        "    if len(replay_buffer) < batch_size:\n",
        "        return\n",
        "\n",
        "    # sample from replay buffer, convert each list of values to tensors\n",
        "    states, actions, rewards, next_states, dones = replay_buffer.sample(batch_size)\n",
        "    states = torch.FloatTensor(states)\n",
        "    actions = torch.LongTensor(actions)\n",
        "    rewards = torch.FloatTensor(rewards)\n",
        "    next_states = torch.FloatTensor(next_states)\n",
        "    dones = torch.FloatTensor(dones)\n",
        "\n",
        "    # get the q values for each of the states\n",
        "    q_values = agent(states)\n",
        "    q_values_next = target_agent(next_states).detach()\n",
        "    # calculate the target q values\n",
        "    q_values_target = rewards + gamma * torch.max(q_values_next, dim=1)[0] * (1 - dones)\n",
        "    q_values_selected = q_values.gather(1, actions.unsqueeze(1)).squeeze(1)\n",
        "    # calculate the loss between the target q values and the samples q values\n",
        "    loss = nn.MSELoss()(q_values_target, q_values_selected)\n",
        "\n",
        "    # reset gradients\n",
        "    optimizer.zero_grad()\n",
        "    # compute gradients based on the calculated loss\n",
        "    loss.backward()\n",
        "    # update model using computed gradients\n",
        "    optimizer.step()"
      ],
      "metadata": {
        "id": "g-p7qIRhxbjl"
      },
      "id": "g-p7qIRhxbjl",
      "execution_count": 83,
      "outputs": []
    },
    {
      "cell_type": "markdown",
      "source": [
        "Function to run episodes"
      ],
      "metadata": {
        "id": "SwdzUEEkxuxY"
      },
      "id": "SwdzUEEkxuxY"
    },
    {
      "cell_type": "code",
      "source": [
        "def run_episode(env, agent, target_agent, replay_buffer, optimizer, gamma, batch_size, epsilon, render=False, video_frames=None):\n",
        "    # in each episode, reset env and go through a step\n",
        "    state, _ = env.reset()\n",
        "    state = np.array(state)\n",
        "    done = False\n",
        "    total_reward = 0\n",
        "\n",
        "    # in case I want to render a specific run\n",
        "    while not done:\n",
        "        if render:\n",
        "            frame = env.render()\n",
        "            if video_frames is not None:\n",
        "                video_frames.append(frame)\n",
        "\n",
        "        if random.random() < epsilon:\n",
        "            action = env.action_space.sample()\n",
        "        else:\n",
        "            state_tensor = torch.FloatTensor(state).unsqueeze(0)\n",
        "            q_values = agent(state_tensor)\n",
        "            action = torch.argmax(q_values).item()\n",
        "\n",
        "        next_state, reward, done, truncated, _ = env.step(action)\n",
        "        next_state = np.array(next_state)\n",
        "        done = done or truncated\n",
        "        # add transition to replay buffer\n",
        "        replay_buffer.add(state, action, reward, next_state, done)\n",
        "        # call train function which computes gradients using replay buffer\n",
        "        train(agent, target_agent, replay_buffer, optimizer, gamma, batch_size)\n",
        "\n",
        "        state = next_state\n",
        "        total_reward += reward\n",
        "\n",
        "    if render:\n",
        "        frame = env.render()\n",
        "        if video_frames is not None:\n",
        "            video_frames.append(frame)\n",
        "\n",
        "    # return summed rewards from all steps\n",
        "    return total_reward"
      ],
      "metadata": {
        "id": "Na8qWpz7xaAX"
      },
      "id": "Na8qWpz7xaAX",
      "execution_count": 84,
      "outputs": []
    },
    {
      "cell_type": "markdown",
      "source": [
        "Testing function"
      ],
      "metadata": {
        "id": "W0ZPoHsNxwXB"
      },
      "id": "W0ZPoHsNxwXB"
    },
    {
      "cell_type": "code",
      "source": [
        "def test_dueling_dqn(env_name=\"LunarLander-v3\", episodes=200, batch_size=32, gamma=0.99, epsilon_start=1.0, epsilon_end=0.01, epsilon_decay=0.995, target_update_freq=10, render_episode=None, video_filename=\"dueling_dqn_video.mp4\"):\n",
        "    # setup environment\n",
        "    env = gym.make(env_name, render_mode=None)\n",
        "    n_state = env.observation_space.shape[0]\n",
        "    n_action = env.action_space.n\n",
        "\n",
        "    # setup inline policy and target policy\n",
        "    agent = DuelingDQN(n_state, n_action)\n",
        "    target_agent = DuelingDQN(n_state, n_action)\n",
        "    target_agent.load_state_dict(agent.state_dict())\n",
        "    optimizer = optim.Adam(agent.parameters(), lr=0.001)\n",
        "    replay_buffer = ReplayBuffer(capacity=10000)\n",
        "\n",
        "    epsilon = epsilon_start\n",
        "    # track rewards\n",
        "    rewards = []\n",
        "\n",
        "    # loop through episodes while updating policy\n",
        "    for episode in range(episodes):\n",
        "        video_frames = [] if episode == render_episode else None\n",
        "        reward = run_episode(env, agent, target_agent, replay_buffer, optimizer, gamma, batch_size, epsilon, render=(episode == render_episode), video_frames=video_frames)\n",
        "        rewards.append(reward)\n",
        "        epsilon = max(epsilon_end, epsilon * epsilon_decay)\n",
        "\n",
        "        if episode % target_update_freq == 0:\n",
        "            target_agent.load_state_dict(agent.state_dict())\n",
        "\n",
        "        if episode % 10 == 0:\n",
        "            print(f\"Episode {episode}, Reward: {reward}, Epsilon: {epsilon}\")\n",
        "\n",
        "        if episode == render_episode and video_frames:\n",
        "            imageio.mimsave(video_filename, video_frames, fps=30)\n",
        "            print(f\"Video saved to {video_filename}\")\n",
        "\n",
        "    env.close()\n",
        "    # save agent to colab\n",
        "    torch.save(agent.state_dict(), model_path)\n",
        "    # return list of rewards\n",
        "    return rewards"
      ],
      "metadata": {
        "id": "zh0XmNTTxYYm"
      },
      "id": "zh0XmNTTxYYm",
      "execution_count": null,
      "outputs": []
    },
    {
      "cell_type": "markdown",
      "source": [
        "#### 5) Run the training and show evidence that the agent is learning.  \n",
        "\n",
        "For example, its average reward (score) should increase with more episodes.\n",
        "\n",
        "**(POINTS: 1 if successful)**"
      ],
      "metadata": {
        "id": "bkucaqPeiFzq"
      },
      "id": "bkucaqPeiFzq"
    },
    {
      "cell_type": "code",
      "source": [
        "rewards = test_dueling_dqn(episodes=500)"
      ],
      "metadata": {
        "id": "Hjof6xmhbDv2",
        "outputId": "f47073ed-575c-42db-b626-84f7e5dcfeb8",
        "colab": {
          "base_uri": "https://localhost:8080/"
        }
      },
      "id": "Hjof6xmhbDv2",
      "execution_count": 75,
      "outputs": [
        {
          "output_type": "stream",
          "name": "stdout",
          "text": [
            "Episode 0, Reward: -129.43189674610653, Epsilon: 0.995\n",
            "Episode 10, Reward: -306.13770876206587, Epsilon: 0.946354579813443\n",
            "Episode 20, Reward: -84.04039963030368, Epsilon: 0.9000874278732445\n",
            "Episode 30, Reward: -53.65971597840208, Epsilon: 0.8560822709551227\n",
            "Episode 40, Reward: -114.8068121792671, Epsilon: 0.8142285204175609\n",
            "Episode 50, Reward: -96.3181118868087, Epsilon: 0.7744209942832988\n",
            "Episode 60, Reward: -85.79802988319562, Epsilon: 0.736559652908221\n",
            "Episode 70, Reward: -159.01610522132233, Epsilon: 0.7005493475733617\n",
            "Episode 80, Reward: -116.04945363302414, Epsilon: 0.6662995813682115\n",
            "Episode 90, Reward: -57.65392839765889, Epsilon: 0.6337242817644086\n",
            "Episode 100, Reward: -47.696565588403686, Epsilon: 0.6027415843082742\n",
            "Episode 110, Reward: -16.96743230893162, Epsilon: 0.5732736268885887\n",
            "Episode 120, Reward: -63.12709059465428, Epsilon: 0.5452463540625918\n",
            "Episode 130, Reward: -65.86005860964836, Epsilon: 0.5185893309484582\n",
            "Episode 140, Reward: 21.21187673607551, Epsilon: 0.4932355662165453\n",
            "Episode 150, Reward: -12.57518812265306, Epsilon: 0.46912134373457726\n",
            "Episode 160, Reward: 9.544471211898085, Epsilon: 0.446186062443672\n",
            "Episode 170, Reward: -44.01163574261875, Epsilon: 0.42437208406280985\n",
            "Episode 180, Reward: -45.25317276792984, Epsilon: 0.4036245882390106\n",
            "Episode 190, Reward: 39.003777244789035, Epsilon: 0.38389143477919885\n",
            "Episode 200, Reward: -28.36351037420697, Epsilon: 0.36512303261753626\n",
            "Episode 210, Reward: -41.869383860036315, Epsilon: 0.3472722151889232\n",
            "Episode 220, Reward: -34.77099243729273, Epsilon: 0.3302941218954743\n",
            "Episode 230, Reward: -250.0341632164892, Epsilon: 0.3141460853680822\n",
            "Episode 240, Reward: -6.95945193750149, Epsilon: 0.2987875242397482\n",
            "Episode 250, Reward: 75.14302562974382, Epsilon: 0.28417984116121187\n",
            "Episode 260, Reward: -318.0266109308187, Epsilon: 0.2702863258025825\n",
            "Episode 270, Reward: -6.914084972231956, Epsilon: 0.2570720625972084\n",
            "Episode 280, Reward: 135.5773201050851, Epsilon: 0.24450384299593592\n",
            "Episode 290, Reward: -73.67122926964579, Epsilon: 0.23255008201124722\n",
            "Episode 300, Reward: -193.25908440453372, Epsilon: 0.2211807388415433\n",
            "Episode 310, Reward: 7.20420222549899, Epsilon: 0.21036724137609603\n",
            "Episode 320, Reward: -57.972317977930565, Epsilon: 0.2000824143909432\n",
            "Episode 330, Reward: -77.69854518278056, Epsilon: 0.1903004112552766\n",
            "Episode 340, Reward: -258.9484683091894, Epsilon: 0.18099664897669618\n",
            "Episode 350, Reward: -133.98465009065904, Epsilon: 0.17214774642209296\n",
            "Episode 360, Reward: -44.70008535592123, Epsilon: 0.16373146555890544\n",
            "Episode 370, Reward: 183.13195731164478, Epsilon: 0.1557266555690826\n",
            "Episode 380, Reward: -49.77127148063239, Epsilon: 0.14811319969530845\n",
            "Episode 390, Reward: -194.0195787476458, Epsilon: 0.14087196468590776\n",
            "Episode 400, Reward: 84.26261082256856, Epsilon: 0.13398475271138335\n",
            "Episode 410, Reward: -52.28320220924222, Epsilon: 0.12743425563174798\n",
            "Episode 420, Reward: -155.2240151675571, Epsilon: 0.12120401149972035\n",
            "Episode 430, Reward: 63.768695667826876, Epsilon: 0.11527836319047392\n",
            "Episode 440, Reward: -141.00161077030245, Epsilon: 0.10964241905397228\n",
            "Episode 450, Reward: -136.08669142269778, Epsilon: 0.1042820154910064\n",
            "Episode 460, Reward: -2.059091325714192, Epsilon: 0.09918368135888474\n",
            "Episode 470, Reward: -128.70304003291636, Epsilon: 0.0943346041173244\n",
            "Episode 480, Reward: 166.77196415598996, Epsilon: 0.08972259762946533\n",
            "Episode 490, Reward: 43.95267599262243, Epsilon: 0.08533607153708872\n",
            "Testing complete.\n"
          ]
        }
      ]
    },
    {
      "cell_type": "markdown",
      "source": [
        "Below shows the plot of the rewards, averaged over time"
      ],
      "metadata": {
        "id": "-wrtrcDLv1Tk"
      },
      "id": "-wrtrcDLv1Tk"
    },
    {
      "cell_type": "code",
      "source": [
        "import matplotlib.pyplot as plt\n",
        "\n",
        "cumulative_means = []\n",
        "temp_list = []\n",
        "for i, num in enumerate(rewards):\n",
        "    temp_list.append(num)\n",
        "    cumulative_mean = sum(temp_list) / len(temp_list)\n",
        "    cumulative_means.append(cumulative_mean)\n",
        "\n",
        "plt.plot(range(1, len(rewards) + 1), cumulative_means, marker='o')\n",
        "plt.xlabel(\"Number of iterations\")\n",
        "plt.ylabel(\"Rewards\")\n",
        "plt.title(\"Cumulative Mean of the Rewards\")\n",
        "plt.grid(True)\n",
        "plt.show()"
      ],
      "metadata": {
        "id": "btGbrWlebkni",
        "outputId": "e65a49b0-3083-4fc6-9d4b-ec600e31448b",
        "colab": {
          "base_uri": "https://localhost:8080/",
          "height": 472
        }
      },
      "id": "btGbrWlebkni",
      "execution_count": 76,
      "outputs": [
        {
          "output_type": "display_data",
          "data": {
            "text/plain": [
              "<Figure size 640x480 with 1 Axes>"
            ],
            "image/png": "[encoded data removed]"
          },
          "metadata": {}
        }
      ]
    },
    {
      "cell_type": "markdown",
      "source": [
        "The plot above shows that the average reward does increase over time, but it does not converge to values above/around 200 in the 500 iterations (I guess the mean would take much longer to reach that 200 mark). I am not sure what I should have changed to get this to converge faster, but there's promise in the existing implementation. If I had more time, I would try to decrease the epsilon decay to allow for more exploration longer. I typically find that it helps with the output but there does not seem to be a strong enough increase in performance yet. With this being said, though, I am unfortunately coming up on the deadline so I won't be able to change that for my submission."
      ],
      "metadata": {
        "id": "6hos0h1ktRzu"
      },
      "id": "6hos0h1ktRzu"
    },
    {
      "cell_type": "markdown",
      "id": "94d60b6e-3530-48d5-b1d0-7f837b5a8c1c",
      "metadata": {
        "id": "94d60b6e-3530-48d5-b1d0-7f837b5a8c1c"
      },
      "source": [
        "#### 6) Run a few episodes and show results\n",
        "**(POINTS: 1 if successful)**"
      ]
    },
    {
      "cell_type": "markdown",
      "source": [
        "Code in the function is the same as training above except for the one part where it's noted. There, I am loading the agent with the developed policy from the completed training instead of creating a new one again."
      ],
      "metadata": {
        "id": "geZ0HPl-pyp_"
      },
      "id": "geZ0HPl-pyp_"
    },
    {
      "cell_type": "code",
      "source": [
        "def run_trained_policy(env_name=\"LunarLander-v3\", model_path=\"dueling_dqn_model.pth\", render=True, num_episodes=5, video_filename=\"trained_policy_video.mp4\"):\n",
        "    # setup environment\n",
        "    env = gym.make(env_name, render_mode='rgb_array')\n",
        "    n_state = env.observation_space.shape[0]\n",
        "    n_action = env.action_space.n\n",
        "\n",
        "    # AGENT LOADED HERE INSTEAD OF CREATING NEW ONE\n",
        "    agent = DuelingDQN(n_state, n_action)\n",
        "    agent.load_state_dict(torch.load(model_path))\n",
        "    agent.eval()\n",
        "\n",
        "    # loop through episodes with given policy\n",
        "    for episode in range(num_episodes):\n",
        "        state, _ = env.reset()\n",
        "        state = np.array(state)\n",
        "        done = False\n",
        "        total_reward = 0\n",
        "        video_frames = []\n",
        "\n",
        "        # take steps until done\n",
        "        while not done:\n",
        "            # render last episode\n",
        "            if render and episode == num_episodes -1:\n",
        "                frame = env.render()\n",
        "                video_frames.append(frame)\n",
        "\n",
        "            state_tensor = torch.FloatTensor(state).unsqueeze(0)\n",
        "            with torch.no_grad():\n",
        "                q_values = agent(state_tensor)\n",
        "                action = torch.argmax(q_values).item()\n",
        "\n",
        "            next_state, reward, done, truncated, info = env.step(action)\n",
        "            next_state = np.array(next_state)\n",
        "            done = done or truncated\n",
        "\n",
        "            state = next_state\n",
        "            total_reward += reward\n",
        "\n",
        "        print(f\"Episode {episode + 1}, Total Reward: {total_reward}\")\n",
        "\n",
        "        # save video of last episode\n",
        "        if episode == num_episodes - 1 and render:\n",
        "            imageio.mimsave(video_filename, video_frames, fps=30)\n",
        "            print(f\"Video saved to {video_filename}\")\n",
        "\n",
        "    env.close()"
      ],
      "metadata": {
        "id": "wwzHQqRMnE88"
      },
      "id": "wwzHQqRMnE88",
      "execution_count": 77,
      "outputs": []
    },
    {
      "cell_type": "code",
      "execution_count": 78,
      "id": "6fa3fffd-f96d-4773-a7bc-862cbf5eb310",
      "metadata": {
        "id": "6fa3fffd-f96d-4773-a7bc-862cbf5eb310",
        "outputId": "76160118-0976-4e79-d122-a5331a2149e1",
        "colab": {
          "base_uri": "https://localhost:8080/"
        }
      },
      "outputs": [
        {
          "output_type": "stream",
          "name": "stderr",
          "text": [
            "<ipython-input-77-a00606641798>:9: FutureWarning: You are using `torch.load` with `weights_only=False` (the current default value), which uses the default pickle module implicitly. It is possible to construct malicious pickle data which will execute arbitrary code during unpickling (See https://github.com/pytorch/pytorch/blob/main/SECURITY.md#untrusted-models for more details). In a future release, the default value for `weights_only` will be flipped to `True`. This limits the functions that could be executed during unpickling. Arbitrary objects will no longer be allowed to be loaded via this mode unless they are explicitly allowlisted by the user via `torch.serialization.add_safe_globals`. We recommend you start setting `weights_only=True` for any use case where you don't have full control of the loaded file. Please open an issue on GitHub for any issues related to this experimental feature.\n",
            "  agent.load_state_dict(torch.load(model_path))\n"
          ]
        },
        {
          "output_type": "stream",
          "name": "stdout",
          "text": [
            "Episode 1, Total Reward: 218.97864911495606\n",
            "Episode 2, Total Reward: 75.17471689183735\n",
            "Episode 3, Total Reward: -76.40929137487903\n",
            "Episode 4, Total Reward: 126.38795603696818\n"
          ]
        },
        {
          "output_type": "stream",
          "name": "stderr",
          "text": [
            "WARNING:imageio_ffmpeg:IMAGEIO FFMPEG_WRITER WARNING: input image is not divisible by macro_block_size=16, resizing from (600, 400) to (608, 400) to ensure video compatibility with most codecs and players. To prevent resizing, make your input image divisible by the macro_block_size or set the macro_block_size to 1 (risking incompatibility).\n"
          ]
        },
        {
          "output_type": "stream",
          "name": "stdout",
          "text": [
            "Episode 5, Total Reward: 244.90663379596347\n",
            "Video saved to trained_policy_video.mp4\n"
          ]
        }
      ],
      "source": [
        "run_trained_policy()"
      ]
    },
    {
      "cell_type": "markdown",
      "source": [
        "The rewards shown above reiterate what I discussed in question 5 where they are highly variable and not converged above to 200. These runs did hit 200 twice though which was promising for my last testing run. To improve this, would I set up my neural network differently or change a different part of the code implementation?"
      ],
      "metadata": {
        "id": "AIWPcPvftoVw"
      },
      "id": "AIWPcPvftoVw"
    },
    {
      "cell_type": "markdown",
      "source": [
        "Also, just so it's noted, I gained inspiration from the following sources, existing Github code bases, and Generative AI software to properly implement the code and to understand the project better as a whole.\n",
        "- https://gymnasium.farama.org/environments/box2d/lunar_lander/#observation-space\n",
        "- https://medium.com/@sainijagjit/understanding-dueling-dqn-a-deep-dive-into-reinforcement-learning-575f6fe4328c\n",
        "- https://github.com/gouxiangchen/dueling-DQN-pytorch/blob/master/dueling_dqn.py\n",
        "- https://github.com/ejmejm/Q-Learning-Tutorials/blob/master/Dueling_Double_DQN.ipynb\n",
        "- https://github.com/ChienTeLee/dueling_dqn_lunar_lander/blob/master/Dueling_DQN_with_Prioritized_Experience_Replay.ipynb\n",
        "- ChatGPT\n",
        "- Google Gemini"
      ],
      "metadata": {
        "id": "FUOTs_lDCVTt"
      },
      "id": "FUOTs_lDCVTt"
    }
  ],
  "metadata": {
    "kernelspec": {
      "display_name": "Python 3",
      "name": "python3"
    },
    "language_info": {
      "codemirror_mode": {
        "name": "ipython",
        "version": 3
      },
      "file_extension": ".py",
      "mimetype": "text/x-python",
      "name": "python",
      "nbconvert_exporter": "python",
      "pygments_lexer": "ipython3",
      "version": "3.9.12"
    },
    "colab": {
      "provenance": [],
      "gpuType": "T4"
    },
    "accelerator": "GPU"
  },
  "nbformat": 4,
  "nbformat_minor": 5
}
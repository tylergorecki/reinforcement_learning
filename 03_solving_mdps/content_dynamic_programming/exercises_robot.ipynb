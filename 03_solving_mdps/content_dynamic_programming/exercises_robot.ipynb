{
  "cells": [
    {
      "cell_type": "markdown",
      "id": "6f16df62-ddac-4952-b637-b5dfd5f05a5b",
      "metadata": {
        "id": "6f16df62-ddac-4952-b637-b5dfd5f05a5b"
      },
      "source": [
        "### Approaches to Solving MDPs I: Dynamic Programming\n",
        "### Exercises: Robot Problem\n",
        "\n",
        "### University of Virginia\n",
        "### Reinforcement Learning\n",
        "#### Last updated: January 26, 2024\n",
        "\n",
        "---"
      ]
    },
    {
      "cell_type": "markdown",
      "id": "f45c194c-aaff-4b28-bf08-17f7c0a438b2",
      "metadata": {
        "id": "f45c194c-aaff-4b28-bf08-17f7c0a438b2"
      },
      "source": [
        "Based on the robot task to maximize reward on the tree below, answer the following questions."
      ]
    },
    {
      "cell_type": "markdown",
      "id": "c30753a6-61b6-4b6f-94fc-db7a05a10019",
      "metadata": {
        "id": "c30753a6-61b6-4b6f-94fc-db7a05a10019"
      },
      "source": [
        "![tree_task1](https://github.com/tylergorecki/reinforcement_learning/blob/main/03_solving_mdps/content_dynamic_programming/tree_task1_binary.png?raw=1)"
      ]
    },
    {
      "cell_type": "markdown",
      "id": "dad2a3f7-2ddd-47ad-8bd0-2a96ba8ae862",
      "metadata": {
        "id": "dad2a3f7-2ddd-47ad-8bd0-2a96ba8ae862"
      },
      "source": [
        "1) Background question: The dynamic programming approach is much more efficient than brute force search. Why is this the case?"
      ]
    },
    {
      "cell_type": "markdown",
      "id": "3e5f12b5-5962-48d4-99fd-eb48d1c75a58",
      "metadata": {
        "id": "3e5f12b5-5962-48d4-99fd-eb48d1c75a58"
      },
      "source": [
        "Because it doesn't do redundant calculations"
      ]
    },
    {
      "cell_type": "markdown",
      "id": "bef50bba-2cb2-4652-8d2f-1627ccddd03a",
      "metadata": {
        "id": "bef50bba-2cb2-4652-8d2f-1627ccddd03a"
      },
      "source": [
        "2. Write an algorithm that will apply the data and compute the maximum value for the robot problem.  Print the results to verify it works properly."
      ]
    },
    {
      "cell_type": "code",
      "execution_count": null,
      "id": "4fdbf20c-5b75-4ef3-9c22-1742aebec422",
      "metadata": {
        "id": "4fdbf20c-5b75-4ef3-9c22-1742aebec422"
      },
      "outputs": [],
      "source": [
        "# treemax =\n",
        "# if tree.children = None: return 0\n",
        "# max(treemax(leftsubtree), treemax(rightsubtree))\n",
        "\n",
        "tree = [0, 1, 3, 2, 1, 1, 3, 1, 3, 3, 4, 4, 5]"
      ]
    }
  ],
  "metadata": {
    "kernelspec": {
      "display_name": "Python 3 (ipykernel)",
      "language": "python",
      "name": "python3"
    },
    "language_info": {
      "codemirror_mode": {
        "name": "ipython",
        "version": 3
      },
      "file_extension": ".py",
      "mimetype": "text/x-python",
      "name": "python",
      "nbconvert_exporter": "python",
      "pygments_lexer": "ipython3",
      "version": "3.9.12"
    },
    "colab": {
      "provenance": []
    }
  },
  "nbformat": 4,
  "nbformat_minor": 5
}